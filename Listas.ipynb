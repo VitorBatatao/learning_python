{
 "cells": [
  {
   "cell_type": "markdown",
   "metadata": {},
   "source": [
    "Relacione duas listas para printar \"O melhor mês do ano foi {} com {} vendas\" e o mesmo para o pior mês do ano\n",
    "Calcule também o faturamento total do Ano e quanto que o melhor mês representou do faturamento total.\n",
    "Obs: Para o faturamento total, pode usar a função sum(lista) que soma todos os itens de uma lista"
   ]
  },
  {
   "cell_type": "code",
   "execution_count": 1,
   "metadata": {},
   "outputs": [
    {
     "name": "stdout",
     "output_type": "stream",
     "text": [
      "O melhor mês do ano foi nov com 49051 vendas\n",
      "O pior mês do ano foi dez com 9650 vendas\n"
     ]
    }
   ],
   "source": [
    "valor = int(0)\n",
    "x = int(0)\n",
    "y = int(0)\n",
    "meses = ['jan', 'fev', 'mar', 'abr', 'mai', 'jun', 'jul', 'ago', 'set', 'out', 'nov', 'dez']\n",
    "vendas_1sem = [25000, 29000, 22200, 17750, 15870, 19900]\n",
    "vendas_2sem = [19850, 20120, 17540, 15555, 49051, 9650]\n",
    "vendas = vendas_1sem + vendas_2sem\n",
    "for i in range(0,12):\n",
    "    if valor < vendas[i]:\n",
    "        valor = vendas[i]\n",
    "        x = i\n",
    "    else:\n",
    "        pass\n",
    "for i in range (0,12):\n",
    "    if valor > vendas [i]:\n",
    "        valor = vendas[i]\n",
    "        y = i\n",
    "        \n",
    "print (\"O melhor mês do ano foi {} com {} vendas\".format(meses[x], vendas[x]))\n",
    "print (\"O pior mês do ano foi {} com {} vendas\".format(meses[y], vendas[y]))"
   ]
  },
  {
   "cell_type": "markdown",
   "metadata": {},
   "source": [
    "Segunda forma de fazer"
   ]
  },
  {
   "cell_type": "code",
   "execution_count": 16,
   "metadata": {},
   "outputs": [
    {
     "name": "stdout",
     "output_type": "stream",
     "text": [
      "O melhor mês do ano foi nov com 49051 vendas\n",
      "O pior mês do ano foi dez com 9650 vendas\n",
      "A soma foi de: 261486.00\n",
      "A soma foi de: R$261,486\n",
      "O melhor mês representou 18.8% das vendas do ano todo\n"
     ]
    }
   ],
   "source": [
    "meses = ['jan', 'fev', 'mar', 'abr', 'mai', 'jun', 'jul', 'ago', 'set', 'out', 'nov', 'dez']\n",
    "vendas_1sem = [25000, 29000, 22200, 17750, 15870, 19900]\n",
    "vendas_2sem = [19850, 20120, 17540, 15555, 49051, 9650]\n",
    "vendas_1sem.extend(vendas_2sem)\n",
    "vendas_max = max(vendas_1sem)\n",
    "vendas_min = min(vendas_1sem)\n",
    "i_vendas_max = vendas_1sem.index(vendas_max)\n",
    "i_vendas_min = vendas_1sem.index(vendas_min)\n",
    "print (\"O melhor mês do ano foi {} com {} vendas\".format(meses[i_vendas_max], vendas_max))\n",
    "print (\"O pior mês do ano foi {} com {} vendas\".format(meses[i_vendas_min], vendas_min))\n",
    "print (\"A soma foi de: {:.2f}\".format(sum(vendas_1sem)))\n",
    "print (\"A soma foi de: R${:,}\".format(sum(vendas_1sem)))\n",
    "\n",
    "percentual = vendas_max/sum(vendas_1sem)\n",
    "\n",
    "print(\"O melhor mês representou {:.1%} das vendas do ano todo\".format(percentual))\n"
   ]
  },
  {
   "cell_type": "markdown",
   "metadata": {},
   "source": [
    "Crie uma lista com o top 3 valores de vendas do ano \n",
    "O método retira um item da lista"
   ]
  },
  {
   "cell_type": "code",
   "execution_count": 38,
   "metadata": {},
   "outputs": [
    {
     "name": "stdout",
     "output_type": "stream",
     "text": [
      "top1:49051\n",
      "top2:29000\n",
      "top3:25000\n"
     ]
    }
   ],
   "source": [
    "meses = ['jan', 'fev', 'mar', 'abr', 'mai', 'jun', 'jul', 'ago', 'set', 'out', 'nov', 'dez']\n",
    "vendas_1sem = [25000, 29000, 22200, 17750, 15870, 19900]\n",
    "vendas_2sem = [19850, 20120, 17540, 15555, 49051, 9650]\n",
    "\n",
    "vendas = vendas_1sem + vendas_2sem\n",
    "ivendas = vendas.index(max(vendas))\n",
    "top1 = vendas.pop(ivendas)\n",
    "ivendas = vendas.index(max(vendas))\n",
    "top2 = vendas.pop(ivendas)\n",
    "ivendas = vendas.index(max(vendas))\n",
    "top3 = vendas.pop(ivendas)\n",
    "print(\"Top1:{}\\nTop2:{}\\nTop3:{}\".format(top1,top2,top3))"
   ]
  }
 ],
 "metadata": {
  "kernelspec": {
   "display_name": "Python 3",
   "language": "python",
   "name": "python3"
  },
  "language_info": {
   "codemirror_mode": {
    "name": "ipython",
    "version": 3
   },
   "file_extension": ".py",
   "mimetype": "text/x-python",
   "name": "python",
   "nbconvert_exporter": "python",
   "pygments_lexer": "ipython3",
   "version": "3.11.0"
  },
  "orig_nbformat": 4
 },
 "nbformat": 4,
 "nbformat_minor": 2
}
