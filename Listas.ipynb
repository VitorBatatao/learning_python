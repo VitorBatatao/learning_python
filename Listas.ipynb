{
 "cells": [
  {
   "cell_type": "markdown",
   "metadata": {},
   "source": [
    "Relacione duas listas para printar \"O melhor mês do ano foi {} com {} vendas\" e o mesmo para o pior mês do ano\n",
    "Calcule também o faturamento total do Ano e quanto que o melhor mês representou do faturamento total.\n",
    "Obs: Para o faturamento total, pode usar a função sum(lista) que soma todos os itens de uma lista"
   ]
  },
  {
   "cell_type": "code",
   "execution_count": 19,
   "metadata": {},
   "outputs": [
    {
     "name": "stdout",
     "output_type": "stream",
     "text": [
      "O melhor mês do ano foi nov com 49051 vendas\n",
      "O pior mês do ano foi dez com 9650 vendas\n"
     ]
    }
   ],
   "source": [
    "valor = int(0)\n",
    "x = int(0)\n",
    "y = int(0)\n",
    "meses = ['jan', 'fev', 'mar', 'abr', 'mai', 'jun', 'jul', 'ago', 'set', 'out', 'nov', 'dez']\n",
    "vendas_1sem = [25000, 29000, 22200, 17750, 15870, 19900]\n",
    "vendas_2sem = [19850, 20120, 17540, 15555, 49051, 9650]\n",
    "vendas = vendas_1sem + vendas_2sem\n",
    "for i in range(0,12):\n",
    "    if valor < vendas[i]:\n",
    "        valor = vendas[i]\n",
    "        x = i\n",
    "    else:\n",
    "        pass\n",
    "for i in range (0,12):\n",
    "    if valor > vendas [i]:\n",
    "        valor = vendas[i]\n",
    "        y = i\n",
    "        \n",
    "print (\"O melhor mês do ano foi {} com {} vendas\".format(meses[x], vendas[x]))\n",
    "print (\"O pior mês do ano foi {} com {} vendas\".format(meses[y], vendas[y]))"
   ]
  }
 ],
 "metadata": {
  "kernelspec": {
   "display_name": "Python 3",
   "language": "python",
   "name": "python3"
  },
  "language_info": {
   "codemirror_mode": {
    "name": "ipython",
    "version": 3
   },
   "file_extension": ".py",
   "mimetype": "text/x-python",
   "name": "python",
   "nbconvert_exporter": "python",
   "pygments_lexer": "ipython3",
   "version": "3.11.0"
  },
  "orig_nbformat": 4
 },
 "nbformat": 4,
 "nbformat_minor": 2
}
