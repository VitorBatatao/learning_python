{
 "cells": [
  {
   "cell_type": "markdown",
   "metadata": {},
   "source": [
    "Crie um programa que calcule e dê um print no bônus que os funcionários devem receber segundo a regra:\n",
    "\n",
    "A meta é 1000 vendas\n",
    "Se o valor de vendas for maior ou igual a meta, o valor do bônus do funcionário é 10% do valor de venda\n",
    "Caso contrário o valor de bônus do funcinário é 0\n",
    "Print o bônus dos 3 funcionários"
   ]
  },
  {
   "cell_type": "code",
   "execution_count": 11,
   "metadata": {},
   "outputs": [
    {
     "name": "stdout",
     "output_type": "stream",
     "text": [
      "O bônus do primeiro é: 100.0\n",
      "O bônus do segundo é: 0\n",
      "O bônus do terceiro é: 500.0\n"
     ]
    }
   ],
   "source": [
    "import numpy as np #Biblioteca de vetores\n",
    "v1 = np.array([0,0,0]) #Cria três vetores numerais\n",
    "v2 = np.array([\"primeiro\",\"segundo\",\"terceiro\"]) #Cria três vetores texto\n",
    "vendas = int(0) #Atribui 0 para vendas\n",
    "for vendas in range(0,3): #Cria uma rotina para pegar a venda dos 3 funcionários\n",
    "    v1[vendas] = float(input(f\"Digite o valor de vendas do {v2[vendas]} funcionário:\"))\n",
    "    vendas = 0\n",
    "\n",
    "for vendas in range(0,3): #Imprimi as vendas\n",
    "    if v1[vendas] >= 1000:\n",
    "        print(f\"O bônus do {v2[vendas]} é: {v1[vendas] * 0.1}\")\n",
    "    else:\n",
    "        print(f\"O bônus do {v2[vendas]} é: {v1[vendas] * 0}\")\n"
   ]
  },
  {
   "cell_type": "markdown",
   "metadata": {},
   "source": [
    "Crie um programa que calcule e dê um print no bônus que os funcionários devem receber segundo a regra:\n",
    "\n",
    "A meta é 1000 vendas\n",
    "Se o valor de vendas for maior ou igual a 2000, então o bonus é de 15%\n",
    "Se o valor de vendas for menor do que 2000 e maior ou igual a 1000, então o bonus é de 10%\n",
    "Se o valor de vendas for menor do que 1000 então o bonus é 0\n",
    "Print o bônus dos 3 funcionários"
   ]
  },
  {
   "cell_type": "code",
   "execution_count": 15,
   "metadata": {},
   "outputs": [
    {
     "name": "stdout",
     "output_type": "stream",
     "text": [
      "O bonus do primeiro é: 100.0\n",
      "O bonus do segundo é: 1500.0\n",
      "O bonus do terceiro é: 750.0\n"
     ]
    }
   ],
   "source": [
    "import numpy as np\n",
    "v1 = np.array([0,0,0])\n",
    "v2 = np.array([\"primeiro\",\"segundo\",\"terceiro\"])\n",
    "vendas = int(0)\n",
    "for vendas in range(0,3):\n",
    "    v1[vendas] = float(input(f\"Digite a venda do {v2[vendas]} funcionário:\"))\n",
    "    vendas = int(0)\n",
    "for vendas in range(0,3):\n",
    "    if v1[vendas] >= 2000:\n",
    "        print(f\"O bonus do {v2[vendas]} é: {v1[vendas]*0.15}\")\n",
    "    elif v1[vendas] < 2000 and v1[vendas]>=1000:\n",
    "        print(f\"O bonus do {v2[vendas]} é: {v1[vendas]*0.10}\")\n",
    "    elif v1[vendas] < 1000:\n",
    "        print(f\"O bonus do {v2[vendas]} é: {v1[vendas]*0}\")"
   ]
  }
 ],
 "metadata": {
  "kernelspec": {
   "display_name": "Python 3",
   "language": "python",
   "name": "python3"
  },
  "language_info": {
   "codemirror_mode": {
    "name": "ipython",
    "version": 3
   },
   "file_extension": ".py",
   "mimetype": "text/x-python",
   "name": "python",
   "nbconvert_exporter": "python",
   "pygments_lexer": "ipython3",
   "version": "3.11.0"
  },
  "orig_nbformat": 4
 },
 "nbformat": 4,
 "nbformat_minor": 2
}
