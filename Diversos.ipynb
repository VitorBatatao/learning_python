{
 "cells": [
  {
   "cell_type": "markdown",
   "metadata": {},
   "source": [
    "1. Faça um Programa que mostre a mensagem (print) \"Alo mundo\" na tela."
   ]
  },
  {
   "cell_type": "code",
   "execution_count": 1,
   "metadata": {},
   "outputs": [
    {
     "name": "stdout",
     "output_type": "stream",
     "text": [
      "OLÁ MUNDO\n"
     ]
    }
   ],
   "source": [
    "print(\"OLÁ MUNDO\")"
   ]
  },
  {
   "cell_type": "markdown",
   "metadata": {},
   "source": [
    "2. Faça um Programa que peça um número (input) e então mostre a mensagem: \"O número informado foi [número].\""
   ]
  },
  {
   "cell_type": "code",
   "execution_count": 7,
   "metadata": {},
   "outputs": [
    {
     "name": "stdout",
     "output_type": "stream",
     "text": [
      "O numero digitado foi:54\n",
      "O número digitado foi:54\n",
      "O numero digitado foi:54\n"
     ]
    }
   ],
   "source": [
    "Numero = int(input(\"Digite qualquer número que será exibido:\"))\n",
    "print(f\"O numero digitado foi:{Numero}\")\n",
    "print(\"O número digitado foi:{}\".format(Numero))\n",
    "print(\"O numero digitado foi:\"+ str(Numero))"
   ]
  },
  {
   "cell_type": "markdown",
   "metadata": {},
   "source": [
    "3. Faça um Programa que peça dois números e imprima a soma."
   ]
  },
  {
   "cell_type": "code",
   "execution_count": 9,
   "metadata": {},
   "outputs": [
    {
     "name": "stdout",
     "output_type": "stream",
     "text": [
      "O resultado da multiplicação dos números foi:2500.0\n",
      "O resultado da multiplicação dos números foi:2500.0\n",
      "O resultado da multiplicação dos números foi:2500.0\n"
     ]
    }
   ],
   "source": [
    "Numero1 = float(input(\"Digite qualquer número:\"))\n",
    "Numero2 = float(input(\"Digite outro qualquer número:\"))\n",
    "print(\"O resultado da multiplicação dos números foi:\" + str(Numero1 * Numero2))\n",
    "print(\"O resultado da multiplicação dos números foi:{}\".format(Numero1 * Numero2))\n",
    "print(f\"O resultado da multiplicação dos números foi:{Numero1 * Numero2}\")"
   ]
  },
  {
   "cell_type": "markdown",
   "metadata": {},
   "source": [
    "4. Faça um Programa que peça as 4 notas bimestrais de um aluno e mostre a média de todas as notas."
   ]
  },
  {
   "cell_type": "code",
   "execution_count": 21,
   "metadata": {},
   "outputs": [
    {
     "name": "stdout",
     "output_type": "stream",
     "text": [
      "1.0\n"
     ]
    }
   ],
   "source": [
    "import numpy as np\n",
    "v1 = np.array([0,0,0,0])\n",
    "Resultado = 0\n",
    "x=0\n",
    "z=0\n",
    "while 4>x :\n",
    "    v1[z] = float(input(\"Digite uma nota:\"))\n",
    "    Resultado = v1[z] + Resultado\n",
    "    x=x+1\n",
    "    z=z+1\n",
    "print(Resultado/4)"
   ]
  },
  {
   "cell_type": "markdown",
   "metadata": {},
   "source": [
    "5. Faça um Programa que converta metros para centímetros. Você pode pedir o comprimento em metros para o usuário (input)."
   ]
  },
  {
   "cell_type": "code",
   "execution_count": 1,
   "metadata": {},
   "outputs": [
    {
     "name": "stdout",
     "output_type": "stream",
     "text": [
      "Esse programa irá converter metros para centímetros\n",
      "O valor em centimetros é: 1000.0\n"
     ]
    }
   ],
   "source": [
    "print(\"Esse programa irá converter metros para centímetros\")\n",
    "metros = float(input(\"Digite o comprimento em metros: \"))\n",
    "print(f\"O valor em centimetros é: {metros*100}\")"
   ]
  },
  {
   "cell_type": "markdown",
   "metadata": {},
   "source": [
    "6. Faça um Programa que calcule a área de uma sala de um apartamento. Para isso, o seu programa precisa pedir a largura da sala, o comprimento da sala e imprimir a área em m² da sala.\n"
   ]
  },
  {
   "cell_type": "code",
   "execution_count": 9,
   "metadata": {},
   "outputs": [
    {
     "name": "stdout",
     "output_type": "stream",
     "text": [
      "O valor da area é: 2\n"
     ]
    }
   ],
   "source": [
    "import numpy as np\n",
    "v1 = np.array([0,0])\n",
    "x = int(0)\n",
    "while x < 2:\n",
    "    v1[x] = float(input(\"Digite o \" + str(x+1) + \"º valor: \"))\n",
    "    x=x+1\n",
    "print(\"O valor da area é: {}\".format (v1[0]*v1[1]))\n"
   ]
  },
  {
   "cell_type": "markdown",
   "metadata": {},
   "source": [
    "7. Faça um Programa que pergunte quanto você ganha por hora e o número de horas trabalhadas no mês. Calcule e mostre o total do seu salário no referido mês."
   ]
  },
  {
   "cell_type": "code",
   "execution_count": 9,
   "metadata": {},
   "outputs": [
    {
     "name": "stdout",
     "output_type": "stream",
     "text": [
      "Vamos calcular seu salário do fim do mês:1000\n"
     ]
    }
   ],
   "source": [
    "import numpy as np\n",
    "v1 = np.array([0,0,0])\n",
    "v2 = np.array([\"dias trabalhados\",\"hora em decimal trabalhados por dia\", \"valor da sua hora em reais\"])\n",
    "x = int(0)\n",
    "Resultado = float(0)\n",
    "for x in range(0,3):\n",
    "    \n",
    "    v1[x] = float(input(f\"Digite a quantidade de {v2[x]}: \"))\n",
    "Resultado = v1[0] * v1[1] * v1[2]\n",
    "print(\"Seu salário do fim do mês:{}\".format(Resultado))\n"
   ]
  }
 ],
 "metadata": {
  "kernelspec": {
   "display_name": "Python 3",
   "language": "python",
   "name": "python3"
  },
  "language_info": {
   "codemirror_mode": {
    "name": "ipython",
    "version": 3
   },
   "file_extension": ".py",
   "mimetype": "text/x-python",
   "name": "python",
   "nbconvert_exporter": "python",
   "pygments_lexer": "ipython3",
   "version": "3.11.0"
  },
  "orig_nbformat": 4
 },
 "nbformat": 4,
 "nbformat_minor": 2
}
