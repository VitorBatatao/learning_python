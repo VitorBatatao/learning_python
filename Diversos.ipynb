{
 "cells": [
  {
   "cell_type": "markdown",
   "metadata": {},
   "source": [
    "1. Faça um Programa que mostre a mensagem (print) \"Alo mundo\" na tela."
   ]
  },
  {
   "cell_type": "code",
   "execution_count": 1,
   "metadata": {},
   "outputs": [
    {
     "name": "stdout",
     "output_type": "stream",
     "text": [
      "OLÁ MUNDO\n"
     ]
    }
   ],
   "source": [
    "print(\"OLÁ MUNDO\")"
   ]
  },
  {
   "cell_type": "markdown",
   "metadata": {},
   "source": [
    "2. Faça um Programa que peça um número (input) e então mostre a mensagem: \"O número informado foi [número].\""
   ]
  },
  {
   "cell_type": "code",
   "execution_count": 7,
   "metadata": {},
   "outputs": [
    {
     "name": "stdout",
     "output_type": "stream",
     "text": [
      "O numero digitado foi:54\n",
      "O número digitado foi:54\n",
      "O numero digitado foi:54\n"
     ]
    }
   ],
   "source": [
    "Numero = int(input(\"Digite qualquer número que será exibido:\"))\n",
    "print(f\"O numero digitado foi:{Numero}\")\n",
    "print(\"O número digitado foi:{}\".format(Numero))\n",
    "print(\"O numero digitado foi:\"+ str(Numero))"
   ]
  },
  {
   "cell_type": "markdown",
   "metadata": {},
   "source": [
    "3. Faça um Programa que peça dois números e imprima a soma."
   ]
  },
  {
   "cell_type": "code",
   "execution_count": 9,
   "metadata": {},
   "outputs": [
    {
     "name": "stdout",
     "output_type": "stream",
     "text": [
      "O resultado da multiplicação dos números foi:2500.0\n",
      "O resultado da multiplicação dos números foi:2500.0\n",
      "O resultado da multiplicação dos números foi:2500.0\n"
     ]
    }
   ],
   "source": [
    "Numero1 = float(input(\"Digite qualquer número:\"))\n",
    "Numero2 = float(input(\"Digite outro qualquer número:\"))\n",
    "print(\"O resultado da multiplicação dos números foi:\" + str(Numero1 * Numero2))\n",
    "print(\"O resultado da multiplicação dos números foi:{}\".format(Numero1 * Numero2))\n",
    "print(f\"O resultado da multiplicação dos números foi:{Numero1 * Numero2}\")"
   ]
  },
  {
   "cell_type": "markdown",
   "metadata": {},
   "source": [
    "4. Faça um Programa que peça as 4 notas bimestrais de um aluno e mostre a média de todas as notas."
   ]
  },
  {
   "cell_type": "code",
   "execution_count": 21,
   "metadata": {},
   "outputs": [
    {
     "name": "stdout",
     "output_type": "stream",
     "text": [
      "1.0\n"
     ]
    }
   ],
   "source": [
    "import numpy as np\n",
    "v1 = np.array([0,0,0,0])\n",
    "Resultado = 0\n",
    "x=0\n",
    "z=0\n",
    "while 4>x :\n",
    "    v1[z] = float(input(\"Digite uma nota:\"))\n",
    "    Resultado = v1[z] + Resultado\n",
    "    x=x+1\n",
    "    z=z+1\n",
    "print(Resultado/4)"
   ]
  },
  {
   "cell_type": "markdown",
   "metadata": {},
   "source": [
    "5. Faça um Programa que converta metros para centímetros. Você pode pedir o comprimento em metros para o usuário (input)."
   ]
  },
  {
   "cell_type": "code",
   "execution_count": 1,
   "metadata": {},
   "outputs": [
    {
     "name": "stdout",
     "output_type": "stream",
     "text": [
      "Esse programa irá converter metros para centímetros\n",
      "O valor em centimetros é: 1000.0\n"
     ]
    }
   ],
   "source": [
    "print(\"Esse programa irá converter metros para centímetros\")\n",
    "metros = float(input(\"Digite o comprimento em metros: \"))\n",
    "print(f\"O valor em centimetros é: {metros*100}\")"
   ]
  },
  {
   "cell_type": "markdown",
   "metadata": {},
   "source": [
    "6. Faça um Programa que calcule a área de uma sala de um apartamento. Para isso, o seu programa precisa pedir a largura da sala, o comprimento da sala e imprimir a área em m² da sala.\n"
   ]
  },
  {
   "cell_type": "code",
   "execution_count": 9,
   "metadata": {},
   "outputs": [
    {
     "name": "stdout",
     "output_type": "stream",
     "text": [
      "O valor da area é: 2\n"
     ]
    }
   ],
   "source": [
    "import numpy as np\n",
    "v1 = np.array([0,0])\n",
    "x = int(0)\n",
    "while x < 2:\n",
    "    v1[x] = float(input(\"Digite o \" + str(x+1) + \"º valor: \"))\n",
    "    x=x+1\n",
    "print(\"O valor da area é: {}\".format (v1[0]*v1[1]))\n"
   ]
  },
  {
   "cell_type": "markdown",
   "metadata": {},
   "source": [
    "7. Faça um Programa que pergunte quanto você ganha por hora e o número de horas trabalhadas no mês. Calcule e mostre o total do seu salário no referido mês."
   ]
  },
  {
   "cell_type": "code",
   "execution_count": 9,
   "metadata": {},
   "outputs": [
    {
     "name": "stdout",
     "output_type": "stream",
     "text": [
      "Vamos calcular seu salário do fim do mês:1000\n"
     ]
    }
   ],
   "source": [
    "import numpy as np\n",
    "v1 = np.array([0,0,0])\n",
    "v2 = np.array([\"dias trabalhados\",\"hora em decimal trabalhados por dia\", \"valor da sua hora em reais\"])\n",
    "x = int(0)\n",
    "Resultado = float(0)\n",
    "for x in range(0,3):\n",
    "    \n",
    "    v1[x] = float(input(f\"Digite a quantidade de {v2[x]}: \"))\n",
    "Resultado = v1[0] * v1[1] * v1[2]\n",
    "print(\"Seu salário do fim do mês:{}\".format(Resultado))\n"
   ]
  },
  {
   "cell_type": "markdown",
   "metadata": {},
   "source": [
    "8. Vamos criar um conversor de temperatura. Faça um Programa que peça a temperatura em graus Fahrenheit, transforme e mostre a temperatura em graus Celsius."
   ]
  },
  {
   "cell_type": "code",
   "execution_count": 12,
   "metadata": {},
   "outputs": [
    {
     "name": "stdout",
     "output_type": "stream",
     "text": [
      "A temperatura em Celsius é: 38.333333333333336\n"
     ]
    }
   ],
   "source": [
    "Temperatura = float(input(\"Digite a temperatura em Fahrenheit: \"))\n",
    "Temperatura = (5/9)*(Temperatura-32)\n",
    "print(f\"A temperatura em Celsius é: {Temperatura}\")"
   ]
  },
  {
   "cell_type": "markdown",
   "metadata": {},
   "source": [
    "9. Faça um Programa que peça a temperatura em graus Celsius, transforme e mostre em graus Fahrenheit."
   ]
  },
  {
   "cell_type": "code",
   "execution_count": 16,
   "metadata": {},
   "outputs": [
    {
     "name": "stdout",
     "output_type": "stream",
     "text": [
      "A temperatura em Fahrenheit é: 157.5\n"
     ]
    }
   ],
   "source": [
    "Temperatura = float(input(\"Digite a temperatura em Celsius: \"))\n",
    "Temperatura = (9/5)*(Temperatura+32)\n",
    "print(f\"A temperatura em Fahrenheit é: {Temperatura}\")"
   ]
  },
  {
   "cell_type": "markdown",
   "metadata": {},
   "source": [
    "10. Tendo como dados de entrada a altura (h) de uma pessoa, construa um algoritmo que calcule seu peso ideal, usando a seguinte fórmula:"
   ]
  },
  {
   "cell_type": "code",
   "execution_count": 20,
   "metadata": {},
   "outputs": [
    {
     "name": "stdout",
     "output_type": "stream",
     "text": [
      "Seu peso ideal é: 79.28200000000001\n"
     ]
    }
   ],
   "source": [
    "Altura = float(input(\"Digite sua altura: \"))\n",
    "Altura = ((72.7 * Altura) - 58)\n",
    "print(f\"Seu peso ideal é: {Altura}\")"
   ]
  },
  {
   "cell_type": "markdown",
   "metadata": {},
   "source": [
    "11. Tendo como dado de entrada a altura (h) de uma pessoa, construa um algoritmo que calcule seu peso ideal, utilizando as seguintes fórmulas:"
   ]
  },
  {
   "cell_type": "code",
   "execution_count": 21,
   "metadata": {},
   "outputs": [
    {
     "name": "stdout",
     "output_type": "stream",
     "text": [
      "Seu peso ideal é: 67.044\n"
     ]
    }
   ],
   "source": [
    "Sexo = int(input(\"Iremos calcular seu peso ideal mas antes precisamos saber seu sexo. Digite 1 para homem e 2 para mulher:\"))\n",
    "if Sexo == 1:\n",
    "    Altura = float(input(\"Digite sua altura: \"))\n",
    "    Altura = ((72.7 * Altura) - 58)\n",
    "    print(f\"Seu peso ideal é: {Altura}\")\n",
    "else:\n",
    "    Altura = float(input(\"Digite sua altura: \"))\n",
    "    Altura = ((62.1 * Altura) - 44.7)\n",
    "    print(f\"Seu peso ideal é: {Altura}\")"
   ]
  },
  {
   "cell_type": "markdown",
   "metadata": {},
   "source": [
    "12. Faça um Programa que pergunte quanto você ganha por hora e o número de horas trabalhadas no mês."
   ]
  },
  {
   "cell_type": "code",
   "execution_count": 25,
   "metadata": {},
   "outputs": [
    {
     "name": "stdout",
     "output_type": "stream",
     "text": [
      "Seu salário do fim do mês:100\n",
      "O desconto IR:11.0\n",
      "O desconto INSS:8.0\n",
      "O desconto sindicato:5.0\n",
      "O salário líquido:76.0\n"
     ]
    }
   ],
   "source": [
    "import numpy as np\n",
    "v1 = np.array([0,0])\n",
    "v2 = np.array([\"hora em decimal trabalhados por dia\", \"valor da sua hora em reais\"])\n",
    "x = int(0)\n",
    "Resultado = float(0)\n",
    "Variável = float(0)\n",
    "for x in range(0,2):\n",
    "    \n",
    "    v1[x] = float(input(f\"Digite a quantidade de {v2[x]}: \"))\n",
    "Resultado = v1[0] * v1[1]\n",
    "print(\"Seu salário do fim do mês:{}\".format(Resultado))\n",
    "Variável = Resultado * 0.11\n",
    "print(\"O desconto IR:{}\".format(Variável))\n",
    "Variável = Resultado * 0.08\n",
    "print(\"O desconto INSS:{}\".format(Variável))\n",
    "Variável = Resultado * 0.05\n",
    "print(\"O desconto sindicato:{}\".format(Variável))\n",
    "Variável = Resultado * (1 - 0.05 - 0.08 - 0.11)\n",
    "print(\"O salário líquido:{}\".format(Variável))\n"
   ]
  },
  {
   "cell_type": "markdown",
   "metadata": {},
   "source": [
    "13. Faça um programa para uma loja de tintas. O programa deverá pedir o tamanho em metros quadrados da área a ser pintada. Considere que a cobertura da tinta é de 1 litro para cada 3 metros quadrados e que a tinta é vendida em latas de 18 litros, que custam R$ 80,00. Informe ao usuário a quantidades de latas de tinta a serem compradas e o preço total. (para simplificação nesse momento, não se preocupe em arredondar a quantidade de latas a serem compradas - vamos trabalhar isso em breve)"
   ]
  },
  {
   "cell_type": "code",
   "execution_count": 26,
   "metadata": {},
   "outputs": [
    {
     "name": "stdout",
     "output_type": "stream",
     "text": [
      "Você vai ter que comprar 0.925925925925926 de latas e pagar um total de 74.07407407407408\n"
     ]
    }
   ],
   "source": [
    "Área = float(input(\"Digite a área a ser pintada: \"))\n",
    "Quantidade_litros = Área/3\n",
    "Quantidade_de_latas = Quantidade_litros/18\n",
    "Preço_total = Quantidade_de_latas * 80\n",
    "\n",
    "print(f\"Você vai ter que comprar {Quantidade_de_latas} de latas e pagar um total de {Preço_total}\")"
   ]
  },
  {
   "cell_type": "markdown",
   "metadata": {},
   "source": [
    "14. Faça um programa que peça o tamanho de um arquivo para download (em MB) e a velocidade de um link de Internet (em Mbps), calcule e informe o tempo aproximado de download do arquivo usando este link (em minutos).\n",
    "Detalhe: MB significa megabyte, Mb (com b minúsculo) significa megabit. Um megabit é 1/8 de um megabyte."
   ]
  },
  {
   "cell_type": "code",
   "execution_count": 27,
   "metadata": {},
   "outputs": [
    {
     "name": "stdout",
     "output_type": "stream",
     "text": [
      "O tempo necessário será 16.666666666666668 minutos\n"
     ]
    }
   ],
   "source": [
    "Mega = float(input(\"Digite o tamanho do arquivo em MB: \"))\n",
    "Minutos = Mega/60\n",
    "print(\"O tempo necessário será \" + str(Minutos) + \" minutos\")"
   ]
  }
 ],
 "metadata": {
  "kernelspec": {
   "display_name": "Python 3",
   "language": "python",
   "name": "python3"
  },
  "language_info": {
   "codemirror_mode": {
    "name": "ipython",
    "version": 3
   },
   "file_extension": ".py",
   "mimetype": "text/x-python",
   "name": "python",
   "nbconvert_exporter": "python",
   "pygments_lexer": "ipython3",
   "version": "3.11.0"
  },
  "orig_nbformat": 4
 },
 "nbformat": 4,
 "nbformat_minor": 2
}
