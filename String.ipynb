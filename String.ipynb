{
 "cells": [
  {
   "cell_type": "markdown",
   "metadata": {},
   "source": [
    "Testando programa de string"
   ]
  },
  {
   "cell_type": "code",
   "execution_count": 15,
   "metadata": {},
   "outputs": [
    {
     "name": "stdout",
     "output_type": "stream",
     "text": [
      "e\n"
     ]
    }
   ],
   "source": [
    "import numpy as np\n",
    "Texto1 = np.array([\"12345678910\",30,30])\n",
    "Texto2 = str()\n",
    "for i in range(0,1):\n",
    "    \n",
    "    Texto1[i] = str(input(\"Digite o {}º texto: \".format(i+1)))\n",
    "#quant = []\n",
    "#quantidade = int(input(\"Digite a quantidade de textos a serem inseridos: \"))\n",
    "#for i in range (quantidade):\n",
    "#    Texto2 = str(input(f\"Digite seu {i+1} texto: \"))\n",
    "#    quant.append(quantidade)\n",
    "print(Texto1[0][-1])\n",
    "\n"
   ]
  },
  {
   "cell_type": "markdown",
   "metadata": {},
   "source": [
    "Digitar o numero do cpf só com numeros"
   ]
  },
  {
   "cell_type": "code",
   "execution_count": 30,
   "metadata": {},
   "outputs": [
    {
     "name": "stdout",
     "output_type": "stream",
     "text": [
      "<class 'str'>\n"
     ]
    },
    {
     "ename": "TypeError",
     "evalue": "'<' not supported between instances of 'str' and 'int'",
     "output_type": "error",
     "traceback": [
      "\u001b[1;31m---------------------------------------------------------------------------\u001b[0m",
      "\u001b[1;31mTypeError\u001b[0m                                 Traceback (most recent call last)",
      "Cell \u001b[1;32mIn[30], line 10\u001b[0m\n\u001b[0;32m      7\u001b[0m \u001b[39m# tirar os traços \u001b[39;00m\n\u001b[0;32m      8\u001b[0m cpf \u001b[39m=\u001b[39m cpf\u001b[39m.\u001b[39mreplace(\u001b[39m\"\u001b[39m\u001b[39m-\u001b[39m\u001b[39m\"\u001b[39m,\u001b[39m\"\u001b[39m\u001b[39m\"\u001b[39m)\n\u001b[1;32m---> 10\u001b[0m \u001b[39mif\u001b[39;00m \u001b[39mlen\u001b[39m(cpf) \u001b[39m==\u001b[39m \u001b[39m11\u001b[39m \u001b[39mand\u001b[39;00m cpf\u001b[39m.\u001b[39misnumeric(cpf\u001b[39m<\u001b[39;49m\u001b[39m12\u001b[39;49m):\n\u001b[0;32m     11\u001b[0m     \u001b[39mprint\u001b[39m (cpf)\n\u001b[0;32m     12\u001b[0m \u001b[39melse\u001b[39;00m:\n",
      "\u001b[1;31mTypeError\u001b[0m: '<' not supported between instances of 'str' and 'int'"
     ]
    }
   ],
   "source": [
    "cpf = input(\"Digite seu CPF só com números:\")\n",
    "print(type(cpf))\n",
    "# tirar os espaços no início e no final\n",
    "cpf = cpf.strip()\n",
    "# tirar os pontos (.)\n",
    "cpf = cpf.replace(\".\",\"\")\n",
    "# tirar os traços \n",
    "cpf = cpf.replace(\"-\",\"\")\n",
    "\n",
    "if len(cpf) == 11 and cpf.isnumeric():\n",
    "    print (cpf)\n",
    "else:\n",
    "    print(\"Digite o CPF corretamente\")"
   ]
  },
  {
   "cell_type": "markdown",
   "metadata": {},
   "source": []
  }
 ],
 "metadata": {
  "kernelspec": {
   "display_name": "Python 3",
   "language": "python",
   "name": "python3"
  },
  "language_info": {
   "codemirror_mode": {
    "name": "ipython",
    "version": 3
   },
   "file_extension": ".py",
   "mimetype": "text/x-python",
   "name": "python",
   "nbconvert_exporter": "python",
   "pygments_lexer": "ipython3",
   "version": "3.11.0"
  },
  "orig_nbformat": 4
 },
 "nbformat": 4,
 "nbformat_minor": 2
}
