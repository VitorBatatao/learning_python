{
 "cells": [
  {
   "cell_type": "markdown",
   "metadata": {},
   "source": [
    "Cadastro de nome e cpf"
   ]
  },
  {
   "cell_type": "code",
   "execution_count": 9,
   "metadata": {},
   "outputs": [
    {
     "ename": "ValueError",
     "evalue": "invalid literal for int() with base 10: ''",
     "output_type": "error",
     "traceback": [
      "\u001b[1;31m---------------------------------------------------------------------------\u001b[0m",
      "\u001b[1;31mValueError\u001b[0m                                Traceback (most recent call last)",
      "Cell \u001b[1;32mIn[9], line 1\u001b[0m\n\u001b[1;32m----> 1\u001b[0m qtd_pessoas \u001b[39m=\u001b[39m \u001b[39mint\u001b[39;49m(\u001b[39minput\u001b[39;49m(\u001b[39m\"\u001b[39;49m\u001b[39mQuantas pessoas serão cadastradas: \u001b[39;49m\u001b[39m\"\u001b[39;49m))\n\u001b[0;32m      3\u001b[0m \u001b[39mfor\u001b[39;00m i \u001b[39min\u001b[39;00m \u001b[39mrange\u001b[39m(qtd_pessoas):\n\u001b[0;32m      4\u001b[0m     nome \u001b[39m=\u001b[39m \u001b[39minput\u001b[39m(\u001b[39m\"\u001b[39m\u001b[39mDigite o \u001b[39m\u001b[39m{}\u001b[39;00m\u001b[39mº nome do hospede: \u001b[39m\u001b[39m\"\u001b[39m\u001b[39m.\u001b[39mformat(i))\n",
      "\u001b[1;31mValueError\u001b[0m: invalid literal for int() with base 10: ''"
     ]
    }
   ],
   "source": [
    "qtd_pessoas = int(input(\"Quantas pessoas serão cadastradas: \"))\n",
    "quarto = []\n",
    "for i in range(qtd_pessoas):\n",
    "    nome = input(\"Digite o {}º nome do hospede: \".format(i))\n",
    "    cpf = input(\"Digite o CPF do {}º hospede: \".format(i))\n",
    "    hospede = [nome,\"cpf: {}\".format(cpf)]\n",
    "    quarto.append (hospede)\n",
    "print(quarto)\n"
   ]
  },
  {
   "cell_type": "markdown",
   "metadata": {},
   "source": [
    "Verificar quantos bateram a meta"
   ]
  },
  {
   "cell_type": "code",
   "execution_count": 18,
   "metadata": {},
   "outputs": [
    {
     "name": "stdout",
     "output_type": "stream",
     "text": [
      "João atingiu a meta com 15000 reais\n",
      "Julia atingiu a meta com 27000 reais\n",
      "Ana atingiu a meta com 10300 reais\n"
     ]
    }
   ],
   "source": [
    "meta = 10000\n",
    "vendas = [\n",
    "    ['João', 15000],\n",
    "    ['Julia', 27000],\n",
    "    ['Marcus', 9900],\n",
    "    ['Maria', 3750],\n",
    "    ['Ana', 10300],\n",
    "    ['Alon', 7870],\n",
    "]\n",
    "for i in vendas:\n",
    "    if i[1] > meta:\n",
    "        print(\"{} atingiu a meta com {} reais\".format(i[0], i[1]))\n"
   ]
  },
  {
   "cell_type": "markdown",
   "metadata": {},
   "source": [
    "Verificar o produto que vendeu mais no ano de 2020"
   ]
  },
  {
   "cell_type": "code",
   "execution_count": 23,
   "metadata": {},
   "outputs": [
    {
     "name": "stdout",
     "output_type": "stream",
     "text": [
      "Em 2020 o iphone foi vendida 393495 a mais que em 2019, ou seja 70.5%\n",
      "Em 2020 o tv foi vendida 382352 a mais que em 2019, ou seja 94.3%\n",
      "Em 2020 o máquina de café foi vendida 149006 a mais que em 2019, ou seja 20.7%\n",
      "Em 2020 o notebook dell foi vendida 272153 a mais que em 2019, ou seja 64.4%\n",
      "Em 2020 o notebook samsung foi vendida 384951 a mais que em 2019, ou seja 248.8%\n"
     ]
    }
   ],
   "source": [
    "produtos = ['iphone','galaxy','ipad','tv','máquina de café','kindle','geladeira','adega','notebook dell','notebook samsung']\n",
    "vendas2019 = [558147,712350,573823,405252,718654,531580,973139,892292,422760,154753,887061,438508,237467,489705,328311,591120]\n",
    "vendas2020 = [951642,244295,26964,787604,867660,78830,710331,646016,694913,539704,324831,667179,295633,725316,644622,994303]\n",
    "\n",
    "for i,produtos in enumerate (produtos):\n",
    "    if vendas2019[i] < vendas2020[i]:\n",
    "        print (\"Em 2020 o {} foi vendida {} a mais que em 2019, ou seja {:.1%}\".format(produtos,vendas2020[i]-vendas2019[i],vendas2020[i]/vendas2019[i]-1))\n",
    "\n",
    "\n"
   ]
  },
  {
   "cell_type": "markdown",
   "metadata": {},
   "source": [
    "Vamos pegar um exemplo de nível mínimo de estoque. Em uma fábrica você tem vários produtos e não pode deixar que os produtos fiquem em falta. Para isso, foi definido uma quantidade mínima de estoque que os produtos precisam ter:\n",
    "\n",
    "Identifique quais fábricas tem algum produto abaixo do nível de estoque\n",
    "\n",
    "- Agora ao invés de analisar o estoque de apenas 1 fábrica, vamos analisar o estoque de várias fábricas"
   ]
  },
  {
   "cell_type": "code",
   "execution_count": 1,
   "metadata": {},
   "outputs": [
    {
     "name": "stdout",
     "output_type": "stream",
     "text": [
      "Lira Manufacturing\n",
      "Fábrica Hashtag\n",
      "Python Manufaturas\n"
     ]
    }
   ],
   "source": [
    "estoque = [\n",
    "    [294, 125, 269, 208, 783, 852, 259, 371, 47, 102, 386, 87, 685, 686, 697, 941, 163, 631, 7, 714, 218, 670, 453],\n",
    "    [648, 816, 310, 555, 992, 643, 226, 319, 501, 23, 239, 42, 372, 441, 126, 645, 927, 911, 761, 445, 974, 2, 549],\n",
    "    [832, 683, 784, 449, 977, 705, 198, 937, 729, 327, 339, 10, 975, 310, 95, 689, 137, 795, 211, 538, 933, 751, 522],\n",
    "    [837, 168, 570, 397, 53, 297, 966, 714, 72, 737, 259, 629, 625, 469, 922, 305, 782, 243, 841, 848, 372, 621, 362],\n",
    "    [429, 242, 53, 985, 406, 186, 198, 50, 501, 870, 781, 632, 781, 105, 644, 509, 401, 88, 961, 765, 422, 340, 654],\n",
    "]\n",
    "fabricas = ['Lira Manufacturing', 'Fábrica Hashtag', 'Python Manufaturas', 'Produções e Cia', 'Manufatura e Cia']\n",
    "nivel_minimo = 50\n",
    "nivel = []\n",
    "\n",
    "for i, lista in enumerate (estoque):\n",
    "    for qtd in lista:\n",
    "        if qtd< nivel_minimo:\n",
    "            \n",
    "            if fabricas [i] in nivel:\n",
    "                pass\n",
    "            else:\n",
    "                nivel.append(fabricas[i])\n",
    "                print(fabricas[i])"
   ]
  },
  {
   "cell_type": "markdown",
   "metadata": {},
   "source": [
    "# Exercícios\n",
    "\n",
    "## 1. Calculando % de uma lista\n",
    "\n",
    "Faremos algo parecido com \"filtrar\" uma lista. Mais pra frente no curso aprenderemos outras formas de fazer isso, mas com o nosso conhecimentoa atual já conseguimos resolver o desafio.\n",
    "\n",
    "Digamos que a gente tenha uma lista de vendedores e ao invés de saber todos os vendedores que bateram a meta, eu quero conseguir calcular o % de vendedores que bateram a meta. Ou seja, se temos 10 vendedores e 3 bateram a meta, temos 30% dos vendedores que bateram a meta."
   ]
  },
  {
   "cell_type": "code",
   "execution_count": 11,
   "metadata": {},
   "outputs": [
    {
     "name": "stdout",
     "output_type": "stream",
     "text": [
      "João\n",
      "Julia\n",
      "Ana\n",
      "A porcentagem de vendedores foi de: 50.0%\n"
     ]
    }
   ],
   "source": [
    "meta = 10000\n",
    "vendedores = 0\n",
    "vendas = [\n",
    "    ['João', 15000],\n",
    "    ['Julia', 27000],\n",
    "    ['Marcus', 9900],\n",
    "    ['Maria', 3750],\n",
    "    ['Ana', 10300],\n",
    "    ['Alon', 7870],\n",
    "]   \n",
    "\n",
    "for i, cliente in enumerate (vendas):\n",
    "    if cliente [1] >= meta:\n",
    "        print (vendas[i][0])\n",
    "        vendedores = vendedores+1\n",
    "print(\"A porcentagem de vendedores foi de: {:.1%}\".format(vendedores/6))"
   ]
  }
 ],
 "metadata": {
  "kernelspec": {
   "display_name": "Python 3",
   "language": "python",
   "name": "python3"
  },
  "language_info": {
   "codemirror_mode": {
    "name": "ipython",
    "version": 3
   },
   "file_extension": ".py",
   "mimetype": "text/x-python",
   "name": "python",
   "nbconvert_exporter": "python",
   "pygments_lexer": "ipython3",
   "version": "3.11.0"
  },
  "orig_nbformat": 4
 },
 "nbformat": 4,
 "nbformat_minor": 2
}
