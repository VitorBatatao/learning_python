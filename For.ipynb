{
 "cells": [
  {
   "cell_type": "markdown",
   "metadata": {},
   "source": [
    "Cadastro de nome e cpf"
   ]
  },
  {
   "cell_type": "code",
   "execution_count": 9,
   "metadata": {},
   "outputs": [
    {
     "ename": "ValueError",
     "evalue": "invalid literal for int() with base 10: ''",
     "output_type": "error",
     "traceback": [
      "\u001b[1;31m---------------------------------------------------------------------------\u001b[0m",
      "\u001b[1;31mValueError\u001b[0m                                Traceback (most recent call last)",
      "Cell \u001b[1;32mIn[9], line 1\u001b[0m\n\u001b[1;32m----> 1\u001b[0m qtd_pessoas \u001b[39m=\u001b[39m \u001b[39mint\u001b[39;49m(\u001b[39minput\u001b[39;49m(\u001b[39m\"\u001b[39;49m\u001b[39mQuantas pessoas serão cadastradas: \u001b[39;49m\u001b[39m\"\u001b[39;49m))\n\u001b[0;32m      3\u001b[0m \u001b[39mfor\u001b[39;00m i \u001b[39min\u001b[39;00m \u001b[39mrange\u001b[39m(qtd_pessoas):\n\u001b[0;32m      4\u001b[0m     nome \u001b[39m=\u001b[39m \u001b[39minput\u001b[39m(\u001b[39m\"\u001b[39m\u001b[39mDigite o \u001b[39m\u001b[39m{}\u001b[39;00m\u001b[39mº nome do hospede: \u001b[39m\u001b[39m\"\u001b[39m\u001b[39m.\u001b[39mformat(i))\n",
      "\u001b[1;31mValueError\u001b[0m: invalid literal for int() with base 10: ''"
     ]
    }
   ],
   "source": [
    "qtd_pessoas = int(input(\"Quantas pessoas serão cadastradas: \"))\n",
    "quarto = []\n",
    "for i in range(qtd_pessoas):\n",
    "    nome = input(\"Digite o {}º nome do hospede: \".format(i))\n",
    "    cpf = input(\"Digite o CPF do {}º hospede: \".format(i))\n",
    "    hospede = [nome,\"cpf: {}\".format(cpf)]\n",
    "    quarto.append (hospede)\n",
    "print(quarto)\n"
   ]
  },
  {
   "cell_type": "markdown",
   "metadata": {},
   "source": [
    "Verificar quantos bateram a meta"
   ]
  },
  {
   "cell_type": "code",
   "execution_count": 18,
   "metadata": {},
   "outputs": [
    {
     "name": "stdout",
     "output_type": "stream",
     "text": [
      "João atingiu a meta com 15000 reais\n",
      "Julia atingiu a meta com 27000 reais\n",
      "Ana atingiu a meta com 10300 reais\n"
     ]
    }
   ],
   "source": [
    "meta = 10000\n",
    "vendas = [\n",
    "    ['João', 15000],\n",
    "    ['Julia', 27000],\n",
    "    ['Marcus', 9900],\n",
    "    ['Maria', 3750],\n",
    "    ['Ana', 10300],\n",
    "    ['Alon', 7870],\n",
    "]\n",
    "for i in vendas:\n",
    "    if i[1] > meta:\n",
    "        print(\"{} atingiu a meta com {} reais\".format(i[0], i[1]))\n"
   ]
  },
  {
   "cell_type": "markdown",
   "metadata": {},
   "source": [
    "Verificar o produto que vendeu mais no ano de 2020"
   ]
  },
  {
   "cell_type": "code",
   "execution_count": 23,
   "metadata": {},
   "outputs": [
    {
     "name": "stdout",
     "output_type": "stream",
     "text": [
      "Em 2020 o iphone foi vendida 393495 a mais que em 2019, ou seja 70.5%\n",
      "Em 2020 o tv foi vendida 382352 a mais que em 2019, ou seja 94.3%\n",
      "Em 2020 o máquina de café foi vendida 149006 a mais que em 2019, ou seja 20.7%\n",
      "Em 2020 o notebook dell foi vendida 272153 a mais que em 2019, ou seja 64.4%\n",
      "Em 2020 o notebook samsung foi vendida 384951 a mais que em 2019, ou seja 248.8%\n"
     ]
    }
   ],
   "source": [
    "produtos = ['iphone','galaxy','ipad','tv','máquina de café','kindle','geladeira','adega','notebook dell','notebook samsung']\n",
    "vendas2019 = [558147,712350,573823,405252,718654,531580,973139,892292,422760,154753,887061,438508,237467,489705,328311,591120]\n",
    "vendas2020 = [951642,244295,26964,787604,867660,78830,710331,646016,694913,539704,324831,667179,295633,725316,644622,994303]\n",
    "\n",
    "for i,produtos in enumerate (produtos):\n",
    "    if vendas2019[i] < vendas2020[i]:\n",
    "        print (\"Em 2020 o {} foi vendida {} a mais que em 2019, ou seja {:.1%}\".format(produtos,vendas2020[i]-vendas2019[i],vendas2020[i]/vendas2019[i]-1))\n",
    "\n",
    "\n"
   ]
  },
  {
   "cell_type": "markdown",
   "metadata": {},
   "source": [
    "Vamos pegar um exemplo de nível mínimo de estoque. Em uma fábrica você tem vários produtos e não pode deixar que os produtos fiquem em falta. Para isso, foi definido uma quantidade mínima de estoque que os produtos precisam ter:\n",
    "\n",
    "Identifique quais fábricas tem algum produto abaixo do nível de estoque\n",
    "\n",
    "- Agora ao invés de analisar o estoque de apenas 1 fábrica, vamos analisar o estoque de várias fábricas"
   ]
  }
 ],
 "metadata": {
  "kernelspec": {
   "display_name": "Python 3",
   "language": "python",
   "name": "python3"
  },
  "language_info": {
   "codemirror_mode": {
    "name": "ipython",
    "version": 3
   },
   "file_extension": ".py",
   "mimetype": "text/x-python",
   "name": "python",
   "nbconvert_exporter": "python",
   "pygments_lexer": "ipython3",
   "version": "3.11.0"
  },
  "orig_nbformat": 4
 },
 "nbformat": 4,
 "nbformat_minor": 2
}
