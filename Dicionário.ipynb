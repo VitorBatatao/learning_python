{
 "cells": [
  {
   "cell_type": "markdown",
   "metadata": {},
   "source": [
    "# Dicionários em Python\n",
    "\n",
    "### Estrutura:\n",
    "\n",
    "dicionario = {chave: valor, chave: valor, chave: valor, chave: valor ...}\n",
    "\n",
    "### Vantagens e Desvantagens\n",
    "\n",
    "- Não devem ser usados para pegar itens em uma determinada ordem\n",
    "- Podem ter valores heterogêneos (vários tipos de valores dentro de um mesmo dicionário: inteiros, strings, listas, etc)\n",
    "- Chaves são únicas obrigatoriamente\n",
    "- Mais intuitivos de trabalhar"
   ]
  },
  {
   "cell_type": "code",
   "execution_count": 6,
   "metadata": {},
   "outputs": [
    {
     "name": "stdout",
     "output_type": "stream",
     "text": [
      "Temos um(a) iphone no valor de 15000.\n",
      "Temos um(a) samsung galaxy no valor de 12000.\n",
      "Temos um(a) tv samsung no valor de 10000.\n",
      "Temos um(a) ps5 no valor de 14300.\n",
      "Temos um(a) tablet no valor de 1720.\n",
      "Temos um(a) ipad no valor de 1000.\n",
      "Temos um(a) tv philco no valor de 2500.\n",
      "Temos um(a) notebook hp no valor de 1000.\n",
      "Temos um(a) notebook dell no valor de 17000.\n",
      "Temos um(a) notebook asus no valor de 2450.\n"
     ]
    }
   ],
   "source": [
    "mais_vendidos = {'tecnologia': 'iphone', \n",
    "                 'refrigeracao': 'ar consul 12000 btu', \n",
    "                 'livros': 'o alquimista', \n",
    "                 'eletrodoméstico': 'geladeira', \n",
    "                 'lazer': 'prancha surf'}\n",
    "\n",
    "vendas_tecnologia = {'iphone': 15000, \n",
    "                     'samsung galaxy': 12000, \n",
    "                     'tv samsung': 10000, \n",
    "                     'ps5': 14300, \n",
    "                     'tablet': 1720, \n",
    "                     'ipad': 1000, \n",
    "                     'tv philco': 2500, \n",
    "                     'notebook hp': 1000, \n",
    "                     'notebook dell': 17000, \n",
    "                     'notebook asus': 2450}\n",
    "reserva = float(input(\"Digite o valor minimo que gostaria de gastar: \"))\n",
    "for equip in vendas_tecnologia:\n",
    "    produto = vendas_tecnologia[equip]\n",
    "    if reserva >= produto:\n",
    "        print(\"Temos um(a) {} no valor de {}.\".format(equip, produto))\n",
    "\n",
    "    "
   ]
  }
 ],
 "metadata": {
  "kernelspec": {
   "display_name": "Python 3",
   "language": "python",
   "name": "python3"
  },
  "language_info": {
   "codemirror_mode": {
    "name": "ipython",
    "version": 3
   },
   "file_extension": ".py",
   "mimetype": "text/x-python",
   "name": "python",
   "nbconvert_exporter": "python",
   "pygments_lexer": "ipython3",
   "version": "3.11.0"
  },
  "orig_nbformat": 4
 },
 "nbformat": 4,
 "nbformat_minor": 2
}
