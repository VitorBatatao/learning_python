{
 "cells": [
  {
   "cell_type": "markdown",
   "metadata": {},
   "source": [
    "Testando"
   ]
  },
  {
   "cell_type": "code",
   "execution_count": 8,
   "metadata": {},
   "outputs": [
    {
     "name": "stdout",
     "output_type": "stream",
     "text": [
      "Vitor\n",
      "(0, 1000)\n",
      "(1, 2000)\n",
      "(2, 300)\n",
      "(3, 300)\n",
      "(4, 150)\n"
     ]
    }
   ],
   "source": [
    "nomes = (\"Vitor\",\"Lucina\",\"Antonio\", \"Maria\")\n",
    "nome1,nome2,nome3,nome4 = nomes\n",
    "print(nome1)\n",
    "\n",
    "vendas = [1000,2000,300,300,150]\n",
    "funcionarios = [\"Vitor\",\"Amanda\",\"Luciana\", \"Pauka\"]\n",
    "\n",
    "for venda in enumerate (vendas):\n",
    "    print (venda)\n",
    "    i, venda = venda"
   ]
  },
  {
   "cell_type": "markdown",
   "metadata": {},
   "source": [
    "# Exercícios\n",
    "\n",
    "São exercícios bem parecidos com os que fizemos com listas. Mas na tupla, podemos não só trabalhar com índices, mas fazer o \"unpacking\" das tuplas, o que pode facilitar nossos códigos.\n",
    "\n",
    "## 1. Análise de Vendas\n",
    "\n",
    "Nesse exercício vamos fazer uma \"análise simples\" de atingimento de Meta.\n",
    "\n",
    "Temos uma lista com os vendedores e os valores de vendas e queremos identificar (printar) quais os vendedores que bateram a meta e qual foi o valor que eles venderam."
   ]
  },
  {
   "cell_type": "code",
   "execution_count": 8,
   "metadata": {},
   "outputs": [
    {
     "name": "stdout",
     "output_type": "stream",
     "text": [
      "O vendedor João atindiu a 10000 vendendo o valor de 15000\n",
      "O vendedor Julia atindiu a 10000 vendendo o valor de 27000\n",
      "O vendedor Ana atindiu a 10000 vendendo o valor de 10300\n"
     ]
    }
   ],
   "source": [
    "meta = 10000\n",
    "vendas = [\n",
    "    ('João', 15000),\n",
    "    ('Julia', 27000),\n",
    "    ('Marcus', 9900),\n",
    "    ('Maria', 3750),\n",
    "    ('Ana', 10300),\n",
    "    ('Alon', 7870),\n",
    "]\n",
    "for vendas in enumerate (vendas):\n",
    "    if vendas [1][1] >= meta:\n",
    "        print(\"O vendedor {} atindiu a {} vendendo o valor de {}\".format(vendas[1][0],meta,vendas[1][1]))\n"
   ]
  },
  {
   "cell_type": "markdown",
   "metadata": {},
   "source": [
    "## 2. Comparação com Ano Anterior\n",
    "\n",
    "Digamos que você está analisando as vendas de produtos de um ecommerce e quer identificar quais produtos tiveram no ano de 2020 mais vendas do que no ano de 2019, para reportar isso para a diretoria.\n",
    "\n",
    "Sua resposta pode ser um print de cada produto, qual foi a venda de 2019, a venda de 2020 e o % de crescimento de 2020 para 2019.\n",
    "\n",
    "Lembrando, para calcular o % de crescimento de um produto de um ano para o outro, podemos fazer: (vendas_produto2020/vendas_produto2019 - 1)\n",
    "\n",
    "A lógica da tupla é: (produto, vendas2019, vendas2020)"
   ]
  },
  {
   "cell_type": "code",
   "execution_count": 1,
   "metadata": {},
   "outputs": [
    {
     "name": "stdout",
     "output_type": "stream",
     "text": [
      "O valor de 2019 foi de558147 e o de 2020 foi de 951642 então o acrescimo em porcentagem foi de 70.5%\n",
      "O valor de 2019 foi de712350 e o de 2020 foi de 244295 então o acrescimo em porcentagem foi de -65.7%\n",
      "O valor de 2019 foi de573823 e o de 2020 foi de 26964 então o acrescimo em porcentagem foi de -95.3%\n",
      "O valor de 2019 foi de405252 e o de 2020 foi de 787604 então o acrescimo em porcentagem foi de 94.3%\n",
      "O valor de 2019 foi de718654 e o de 2020 foi de 867660 então o acrescimo em porcentagem foi de 20.7%\n",
      "O valor de 2019 foi de531580 e o de 2020 foi de 78830 então o acrescimo em porcentagem foi de -85.2%\n",
      "O valor de 2019 foi de973139 e o de 2020 foi de 710331 então o acrescimo em porcentagem foi de -27.0%\n",
      "O valor de 2019 foi de892292 e o de 2020 foi de 646016 então o acrescimo em porcentagem foi de -27.6%\n",
      "O valor de 2019 foi de422760 e o de 2020 foi de 694913 então o acrescimo em porcentagem foi de 64.4%\n",
      "O valor de 2019 foi de154753 e o de 2020 foi de 539704 então o acrescimo em porcentagem foi de 248.8%\n",
      "O valor de 2019 foi de887061 e o de 2020 foi de 324831 então o acrescimo em porcentagem foi de -63.4%\n",
      "O valor de 2019 foi de438508 e o de 2020 foi de 667179 então o acrescimo em porcentagem foi de 52.1%\n",
      "O valor de 2019 foi de237467 e o de 2020 foi de 295633 então o acrescimo em porcentagem foi de 24.5%\n",
      "O valor de 2019 foi de489705 e o de 2020 foi de 725316 então o acrescimo em porcentagem foi de 48.1%\n",
      "O valor de 2019 foi de328311 e o de 2020 foi de 644622 então o acrescimo em porcentagem foi de 96.3%\n",
      "O valor de 2019 foi de591120 e o de 2020 foi de 994303 então o acrescimo em porcentagem foi de 68.2%\n"
     ]
    }
   ],
   "source": [
    "vendas_produtos = [('iphone', 558147, 951642), ('galaxy', 712350, 244295), ('ipad', 573823, 26964), ('tv', 405252, 787604), ('máquina de café', 718654, 867660), ('kindle', 531580, 78830), ('geladeira', 973139, 710331), ('adega', 892292, 646016), ('notebook dell', 422760, 694913), ('notebook hp', 154753, 539704), ('notebook asus', 887061, 324831), ('microsoft surface', 438508, 667179), ('webcam', 237467, 295633), ('caixa de som', 489705, 725316), ('microfone', 328311, 644622), ('câmera canon', 591120, 994303)]\n",
    "\n",
    "for produto, vendas2019, vendas2020 in vendas_produtos:\n",
    "    print (\"O valor de 2019 foi de{} e o de 2020 foi de {} então o acrescimo em porcentagem foi de {:.1%}\".format(vendas2019, vendas2020, (vendas2020/vendas2019)-1))"
   ]
  }
 ],
 "metadata": {
  "kernelspec": {
   "display_name": "Python 3",
   "language": "python",
   "name": "python3"
  },
  "language_info": {
   "codemirror_mode": {
    "name": "ipython",
    "version": 3
   },
   "file_extension": ".py",
   "mimetype": "text/x-python",
   "name": "python",
   "nbconvert_exporter": "python",
   "pygments_lexer": "ipython3",
   "version": "3.11.0"
  },
  "orig_nbformat": 4
 },
 "nbformat": 4,
 "nbformat_minor": 2
}
