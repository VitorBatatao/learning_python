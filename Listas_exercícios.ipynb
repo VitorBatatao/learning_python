{
 "cells": [
  {
   "cell_type": "markdown",
   "metadata": {},
   "source": [
    "# Exercícios\n",
    "\n",
    "## 1. Mudança de Carga Tributária\n",
    "\n",
    "- Reformas e mudanças de cargas tributárias são bem comuns no Brasil.\n",
    "\n",
    "Digamos que você trabalhe em uma empresa de ecommerce\n",
    "\n",
    "No Brasil, o imposto sobre livros é zerado. De um ano para o outro, o governo criou um novo imposto que incide em 10% sobre o valor dos livros e agora você precisa alterar o registro dos preços dos livros da empresa para garantir que esse imposto vai ser repassado para o preço final do produto.\n",
    "\n",
    "Crie um código que recalcule o valor do livro da sua lista de produtos e ajuste na tabela.\n",
    "\n",
    "Além disso, calcule qual vai ser o impacto financeiro da criação desse imposto para a empresa (ou seja, quanto que o imposto vai aumentar de custo para a empresa)\n",
    "\n",
    "Obs: para facilitar, colocamos apenas 1 livro na lista, mas em breve vamos aprender um for que vai adaptar esse cenário para qualquer quantidade de livros na sua lista.\n",
    "\n",
    "Obs2: Seu código deve funcionar mesmo que não haja livros na lista de produtos da empresa"
   ]
  },
  {
   "cell_type": "code",
   "execution_count": null,
   "metadata": {},
   "outputs": [],
   "source": [
    "produtos = ['computador', 'livro', 'tablet', 'celular', 'tv', 'ar condicionado', 'alexa', 'máquina de café', 'kindle']\n",
    "x = float()\n",
    "y = float()\n",
    "#cada item da lista dos produtos corresponde a quantidade de vendas no mês e preço, nessa ordem\n",
    "produtos_ecommerce = [\n",
    "    [10000, 2500],\n",
    "    [50000, 40],\n",
    "    [7000, 1200],\n",
    "    [20000, 1500],\n",
    "    [5800, 1300],\n",
    "    [7200, 2500],\n",
    "    [200, 800],\n",
    "    [3300, 700],\n",
    "    [1900, 400]\n",
    "]\n",
    "for i in range (0,9):\n",
    "    valor = produtos_ecommerce[i][0] * produtos_ecommerce[i][1]\n",
    "    x = valor + x\n",
    "for i in range(0,9):\n",
    "    valor = produtos_ecommerce[i][1] * 1.1\n",
    "    produtos_ecommerce [i][1] = valor\n",
    "    valor = produtos_ecommerce[i][0] * produtos_ecommerce[i][1]\n",
    "    y = valor + y\n",
    "print(y-x)\n",
    "\n",
    "#item = input(\"Digite o nome do item que você comprou: \")\n",
    "#numero = produtos.index(item)\n",
    "#print (numero)\n"
   ]
  },
  {
   "cell_type": "markdown",
   "metadata": {},
   "source": [
    "#### 1. Faça um Programa que leia as vendas dos vendedores, mostre a venda de cada vendedor com o seu nome e a média de vendas. "
   ]
  },
  {
   "cell_type": "code",
   "execution_count": 11,
   "metadata": {},
   "outputs": [
    {
     "name": "stdout",
     "output_type": "stream",
     "text": [
      "0\n",
      "O Fulano fez 1000 de venda\n",
      "1\n",
      "O Beltrano fez 1500 de venda\n",
      "2\n",
      "O Ciclano fez 1200 de venda\n",
      "3\n",
      "O Lira fez 1300 de venda\n"
     ]
    }
   ],
   "source": [
    "vendas = [1000, 1500, 1200, 1300]\n",
    "vendedores = [\"Fulano\", \"Beltrano\", \"Ciclano\", \"Lira\"]\n",
    "\n",
    "for mostrar in vendedores:\n",
    "    indice = vendedores.index(mostrar)\n",
    "    print(indice)\n",
    "    print(\"O {} fez {} de venda\".format(mostrar, vendas[indice]))\n",
    "    "
   ]
  },
  {
   "cell_type": "code",
   "execution_count": 18,
   "metadata": {},
   "outputs": [
    {
     "name": "stdout",
     "output_type": "stream",
     "text": [
      "0\n",
      "O Fulano vendeu 1000\n",
      "1\n",
      "O Beltrano vendeu 1500\n",
      "2\n",
      "O Ciclano vendeu 1200\n",
      "3\n",
      "O Lira vendeu 1300\n"
     ]
    }
   ],
   "source": [
    "vendas = [1000, 1500, 1200, 1300]\n",
    "vendedores = [\"Fulano\", \"Beltrano\", \"Ciclano\", \"Lira\"]\n",
    "\n",
    "for i, vendas in enumerate (vendas):\n",
    "    print (i)\n",
    "    print(\"O {} vendeu {}\".format(vendedores[i], vendas))"
   ]
  },
  {
   "cell_type": "code",
   "execution_count": 19,
   "metadata": {},
   "outputs": [
    {
     "name": "stdout",
     "output_type": "stream",
     "text": [
      "O Fulano vendeu 1000\n",
      "O Beltrano vendeu 1500\n",
      "O Ciclano vendeu 1200\n",
      "O Lira vendeu 1300\n"
     ]
    }
   ],
   "source": [
    "vendas = [1000, 1500, 1200, 1300]\n",
    "vendedores = [\"Fulano\", \"Beltrano\", \"Ciclano\", \"Lira\"]\n",
    "for i in range (len(vendas)):\n",
    "    print(\"O {} vendeu {}\".format(vendedores[i], vendas [i]))"
   ]
  },
  {
   "cell_type": "markdown",
   "metadata": {},
   "source": [
    "#### 2. Faça um Programa que crie uma lista com as médias de cada aluno, imprima as médias de cada aluno e a quantidade de alunos com média maior que 7."
   ]
  },
  {
   "cell_type": "code",
   "execution_count": 28,
   "metadata": {},
   "outputs": [
    {
     "name": "stdout",
     "output_type": "stream",
     "text": [
      "A média do José foi de 8.75\n",
      "A medias do aluno José foi maior que 7\n",
      "A média do Joana foi de 6.5\n",
      "A média do Maria foi de 10.0\n",
      "A medias do aluno Maria foi maior que 7\n",
      "A média do Carla foi de 6.75\n",
      "A média do Mauricio foi de 6.25\n",
      "A média do Andre foi de 7.25\n",
      "A medias do aluno Andre foi maior que 7\n",
      "A média do Tiago foi de 7.5\n",
      "A medias do aluno Tiago foi maior que 7\n",
      "A média do Enzo foi de 6.5\n",
      "A média do Amanda foi de 7.5\n",
      "A medias do aluno Amanda foi maior que 7\n",
      "A média do Alessandra foi de 4.25\n"
     ]
    }
   ],
   "source": [
    "alunos = [\"José\", \"Joana\", \"Maria\", \"Carla\", \"Mauricio\", \"Andre\", \"Tiago\", \"Enzo\", \"Amanda\", \"Alessandra\"]\n",
    "notas = [\n",
    "    [10, 9, 8, 8],\n",
    "    [9, 7, 6, 4],\n",
    "    [10, 10, 10, 10],\n",
    "    [5, 3, 10, 9],\n",
    "    [7, 6, 6, 6],\n",
    "    [7, 7, 8, 7],\n",
    "    [7, 7, 7, 9],\n",
    "    [8, 5, 6, 7],\n",
    "    [10, 9, 7, 4],\n",
    "    [10, 1, 3, 3],\n",
    "]\n",
    "for i, notas in enumerate (notas):\n",
    "    media = sum(notas)/len(notas)\n",
    "    print(\"A média do {} foi de {}\".format(alunos[i], media))\n",
    "    if media >= 7:\n",
    "        print(\"A medias do aluno {} foi maior que 7\".format(alunos[i]))\n",
    "        "
   ]
  },
  {
   "cell_type": "markdown",
   "metadata": {},
   "source": [
    "#### 3. Foram anotadas as idades e salários de 30 funcionários. Faça um programa que determine quantos funcionários com mais de 25 anos possuem salário inferior à média de todos os salários."
   ]
  },
  {
   "cell_type": "code",
   "execution_count": 39,
   "metadata": {},
   "outputs": [
    {
     "name": "stdout",
     "output_type": "stream",
     "text": [
      "O funcionário de 35 possui um salário de 3739 que é acima da média de 3319.8\n",
      "O funcionário de 50 possui um salário de 3554 que é acima da média de 3319.8\n",
      "O funcionário de 33 possui um salário de 3978 que é acima da média de 3319.8\n",
      "O funcionário de 48 possui um salário de 4014 que é acima da média de 3319.8\n",
      "O funcionário de 33 possui um salário de 4792 que é acima da média de 3319.8\n",
      "O funcionário de 48 possui um salário de 3879 que é acima da média de 3319.8\n",
      "O funcionário de 35 possui um salário de 4826 que é acima da média de 3319.8\n",
      "O funcionário de 47 possui um salário de 4318 que é acima da média de 3319.8\n",
      "O funcionário de 34 possui um salário de 4640 que é acima da média de 3319.8\n",
      "O funcionário de 48 possui um salário de 3965 que é acima da média de 3319.8\n",
      "O funcionário de 30 possui um salário de 4267 que é acima da média de 3319.8\n",
      "O funcionário de 25 possui um salário de 4007 que é acima da média de 3319.8\n",
      "O funcionário de 25 possui um salário de 3852 que é acima da média de 3319.8\n"
     ]
    }
   ],
   "source": [
    "idades = [35,32,50,33,48,50,33,48,22,49,35,38,20,47,49,48,34,21,48,44,48,30,25,42,42,23,25,23,38,35]\n",
    "salarios = [3739,2219,3554,3978,4014,3270,4792,3879,2981,2384,4826,2460,3680,4318,1872,1770,4640,3929,3295,1729,3965,4267,4007,1916,2987,2943,3852,4543,2055,1730]\n",
    "media = sum(salarios)\n",
    "media = media/len(salarios)\n",
    "for i, sal in enumerate (salarios):\n",
    "    if idades[i] >= 25 and sal >= media:\n",
    "        print(\"O funcionário de {} possui um salário de {} que é acima da média de {}\".format(idades[i], sal, media))"
   ]
  },
  {
   "cell_type": "markdown",
   "metadata": {},
   "source": [
    "#### 4.Em quais meses a média de temperatura foi maior do que a média nacional?"
   ]
  },
  {
   "cell_type": "code",
   "execution_count": 42,
   "metadata": {},
   "outputs": [
    {
     "name": "stdout",
     "output_type": "stream",
     "text": [
      "Em Janeiro a temperatura esta acima da média de 25.833333333333332\n",
      "Em Fevereiro a temperatura esta acima da média de 25.833333333333332\n",
      "Em Março a temperatura esta acima da média de 25.833333333333332\n",
      "Em Abril a temperatura esta acima da média de 25.833333333333332\n",
      "Em Junho a temperatura esta acima da média de 25.833333333333332\n",
      "Em Novembro a temperatura esta acima da média de 25.833333333333332\n",
      "Em Dezembro a temperatura esta acima da média de 25.833333333333332\n"
     ]
    }
   ],
   "source": [
    "meses = [\n",
    "    'Janeiro',\n",
    "    'Fevereiro',\n",
    "    'Março',\n",
    "    'Abril',\n",
    "    'Maio',\n",
    "    'Junho',\n",
    "    'Julho',\n",
    "    'Agosto',\n",
    "    'Setembro',\n",
    "    'Outubro',\n",
    "    'Novembro',\n",
    "    'Dezembro'\n",
    "]\n",
    "\n",
    "temperaturas = [30, 29, 28, 28, 25, 26, 20, 21, 19, 25, 27, 32]\n",
    "\n",
    "temp = sum(temperaturas)/len(temperaturas)\n",
    "\n",
    "for i, meses in enumerate(meses):\n",
    "    if temperaturas[i] >= temp:\n",
    "        print(\"Em {} a temperatura esta acima da média de {}\".format(meses, temp)) "
   ]
  },
  {
   "cell_type": "markdown",
   "metadata": {},
   "source": [
    "#### 5. As Organizações Tabajara resolveram dar um abono aos seus colaboradores em reconhecimento ao bom resultado alcançado durante o ano que passou. Para isto contratou você para desenvolver a aplicação que servirá como uma projeção de quanto será gasto com o pagamento deste abono.\n",
    "<pre>Após reuniões envolvendo a diretoria executiva, a diretoria financeira e os representantes do sindicato laboral, chegou-se a seguinte forma de cálculo:\n",
    ". Cada funcionário receberá o equivalente a 20% do seu salário bruto de dezembro;\n",
    ". O piso do abono será de 100 reais, isto é, aqueles funcionários cujo salário for muito baixo, recebem este valor mínimo; \n",
    "\n",
    "Neste momento, não se deve ter nenhuma preocupação com colaboradores com tempo menor de casa, descontos, impostos ou outras particularidades. O programa deverá calcular o valor do abono concedido a cada colaborador, de acordo com a regra definida acima. Ao final, o programa deverá apresentar:</pre>\n",
    "<pre>\n",
    "O salário de cada funcionário, juntamente com o valor do abono;\n",
    "O número total de funcionário processados;\n",
    "O valor total a ser gasto com o pagamento do abono;\n",
    "O número de funcionário que receberá o valor mínimo de 100 reais;\n",
    "O maior valor pago como abono; A tela abaixo é um exemplo de execução do programa, apenas para fins ilustrativos.\n",
    "<pre>\n",
    "Projeção de Gastos com Abono\n",
    "============================ \n",
    " \n",
    "Salário: 1000\n",
    "Salário: 300\n",
    "Salário: 500\n",
    "Salário: 100\n",
    "Salário: 4500\n",
    "Salário: 0\n",
    " \n",
    "Salário    - Abono     \n",
    "R$ 1000.00 - R$  200.00\n",
    "R$  300.00 - R$  100.00\n",
    "R$  500.00 - R$  100.00\n",
    "R$  100.00 - R$  100.00\n",
    "R$ 4500.00 - R$  900.00\n",
    " \n",
    "Foram processados 5 colaboradores\n",
    "Total gasto com abonos: R$ 1400.00\n",
    "Valor mínimo pago a 3 colaboradores\n",
    "Maior valor de abono pago: R$ 900.00"
   ]
  },
  {
   "cell_type": "code",
   "execution_count": 68,
   "metadata": {},
   "outputs": [
    {
     "name": "stdout",
     "output_type": "stream",
     "text": [
      "O salário de 1000 tem abono de 100\n",
      "O salário de 300 tem abono de 100\n",
      "O salário de 500 tem abono de 100\n",
      "O salário de 200 tem abono de 100\n",
      "O salário de 1500 tem abono de 150.0\n",
      "O salário de 3000 tem abono de 300.0\n",
      "O salário de 3400 tem abono de 340.0\n",
      "O salário de 5000 tem abono de 500.0\n",
      "O salário de 7000 tem abono de 700.0\n",
      "O salário de 2000 tem abono de 200.0\n",
      "O salário de 600 tem abono de 100\n",
      "O salário de 800 tem abono de 100\n",
      "O salário de 250 tem abono de 100\n",
      "O salário de 1500 tem abono de 150.0\n",
      "O salário de 20000 tem abono de 2000.0\n",
      "A quantidade de funcionários processados foi de 15\n",
      "O gasto com abono será de 5040.0\n",
      "A quantidade de funcionários que ganham 100 é de 7\n",
      "O maior abono pago foi de 2000.0\n"
     ]
    }
   ],
   "source": [
    "lista_salarios = [1000, 300, 500, 200, 1500, 3000, 3400, 5000, 7000, 2000, 600, 800, 250, 1500, 20000]\n",
    "abonos = []\n",
    "for i, list in enumerate (lista_salarios):\n",
    "    if list * 0.1 > 100:\n",
    "        abonos.append(0.1 * list)\n",
    "        print(\"O salário de {} tem abono de {}\".format(list, abonos[i]))\n",
    "    else:\n",
    "        abonos.append(100)\n",
    "        print(\"O salário de {} tem abono de {}\".format(list, abonos[i]))\n",
    "\n",
    "print(\"A quantidade de funcionários processados foi de {}\".format(len(lista_salarios)))\n",
    "print(\"O gasto com abono será de {}\".format(sum(abonos)))\n",
    "qtd_funcionarios = abonos.count(100)\n",
    "print(\"A quantidade de funcionários que ganham 100 é de {}\".format(qtd_funcionarios))\n",
    "for i in range(len(abonos)-1):\n",
    "    if abonos[i] > abonos[i+1]:\n",
    "        Maior = abonos[i]\n",
    "    else:\n",
    "        Maior = abonos[i+1]\n",
    "print(\"O maior abono pago foi de {}\".format(Maior))"
   ]
  },
  {
   "cell_type": "markdown",
   "metadata": {},
   "source": [
    "#### 6. Faça um programa que carregue uma lista com os modelos de cinco carros (exemplo de modelos: FUSCA, GOL, VECTRA etc). Carregue uma outra lista com o consumo desses carros, isto é, quantos quilômetros cada um desses carros faz com um litro de combustível. Calcule e mostre:\n",
    "<pre>\n",
    "a. O modelo do carro mais econômico;\n",
    "b. Quantos litros de combustível cada um dos carros cadastrados consome para percorrer uma distância de 1000 quilômetros e quanto isto custará, considerando um que a gasolina custe R$ 2,25 o litro. Abaixo segue uma tela de exemplo. O disposição das informações deve ser o mais próxima possível ao exemplo. Os dados são fictícios e podem mudar a cada execução do programa.</pre>\n",
    "```\n",
    "Comparativo de Consumo de Combustível\n",
    "\n",
    "Veículo 1\n",
    "Nome: fusca\n",
    "Km por litro: 7\n",
    "Veículo 2\n",
    "Nome: gol\n",
    "Km por litro: 10\n",
    "Veículo 3\n",
    "Nome: uno\n",
    "Km por litro: 12.5\n",
    "Veículo 4\n",
    "Nome: Vectra\n",
    "Km por litro: 9\n",
    "Veículo 5\n",
    "Nome: Peugeout\n",
    "Km por litro: 14.5\n",
    "\n",
    "Relatório Final\n",
    " 1 - fusca           -    7.0 -  142.9 litros - R$ 321.43\n",
    " 2 - gol             -   10.0 -  100.0 litros - R$ 225.00\n",
    " 3 - uno             -   12.5 -   80.0 litros - R$ 180.00\n",
    " 4 - vectra          -    9.0 -  111.1 litros - R$ 250.00\n",
    " 5 - peugeout        -   14.5 -   69.0 litros - R$ 155.17\n",
    "O menor consumo é do peugeout.\n",
    "```"
   ]
  },
  {
   "cell_type": "code",
   "execution_count": 74,
   "metadata": {},
   "outputs": [
    {
     "name": "stdout",
     "output_type": "stream",
     "text": [
      "Comparativo de Consumo de Combustível\n",
      "Veiculo 0\n",
      "Nome: fusca\n",
      "Km por litro: 7\n",
      "Veiculo 1\n",
      "Nome:  gol\n",
      "Km por litro: 10\n",
      "Veiculo 2\n",
      "Nome: uno\n",
      "Km por litro: 12.5\n",
      "Veiculo 3\n",
      "Nome: vectra\n",
      "Km por litro: 9\n",
      "Veiculo 4\n",
      "Nome: peugeot\n",
      "Km por litro: 14.5\n",
      "Relatório Final\n",
      "0 - fusca  -   7- 142.86- 321.43\n",
      "1 -  gol  -   10- 100.00- 225.00\n",
      "2 - uno  -   12.5- 80.00- 180.00\n",
      "3 - vectra  -   9- 111.11- 250.00\n",
      "4 - peugeot  -   14.5- 68.97- 155.17\n"
     ]
    }
   ],
   "source": [
    "print('Comparativo de Consumo de Combustível')\n",
    "veiculos = ['fusca',' gol', 'uno', 'vectra', 'peugeot']\n",
    "autonomias = [7, 10, 12.5, 9, 14.5]\n",
    "\n",
    "for i, comp in enumerate (veiculos):\n",
    "    print(\"Veiculo {}\".format(i))\n",
    "    print(\"Nome: {}\".format(veiculos[i]))\n",
    "    print(\"Km por litro: {}\".format(autonomias[i]))\n",
    "    \n",
    "print('Relatório Final')\n",
    "\n",
    "for i,comp in enumerate (veiculos):\n",
    "    print(\"{} - {}  -   {}- {:.2f}- {:.2f}\".format(i,comp, autonomias[i],1000/autonomias[i],1000/autonomias[i]*2.25))\n"
   ]
  },
  {
   "cell_type": "markdown",
   "metadata": {},
   "source": [
    "#### 7. Uma empresa paga seus vendedores com base em comissões. O vendedor recebe \\\\$200 por semana mais 9 por cento de suas vendas brutas daquela semana. Por exemplo, um vendedor que teve vendas brutas de \\\\$3000 em uma semana recebe \\\\$200 mais 9 por cento de \\\\$3000, ou seja, um total de \\\\$470. Escreva um programa (usando um array de contadores) que determine quantos vendedores receberam salários nos seguintes intervalos de valores:\n",
    "<pre>\n",
    "$200 - $299\n",
    "$300 - $399\n",
    "$400 - $499\n",
    "$500 - $599\n",
    "$600 - $699\n",
    "$700 - $799\n",
    "$800 - $899\n",
    "$900 - $999\n",
    "$1000 em diante\n",
    "</pre>\n",
    "\n",
    "Existem várias formas de fazer. Faça primeiro da forma que parecer mais intuitiva para você.\n",
    "\n",
    "Em seguida, caso queira um desafio:\n",
    "Desafio: Crie uma forma para chegar na posição da lista a partir do salário, sem fazer vários ifs aninhados."
   ]
  },
  {
   "cell_type": "code",
   "execution_count": 90,
   "metadata": {},
   "outputs": [
    {
     "name": "stdout",
     "output_type": "stream",
     "text": [
      "1290.0\n",
      "2380.0\n",
      "3470.0\n",
      "4560.0\n",
      "5650.0\n",
      "6740.0\n",
      "6195.0\n",
      "5105.0\n",
      "4124.0\n"
     ]
    },
    {
     "ename": "TypeError",
     "evalue": "'int' object is not iterable",
     "output_type": "error",
     "traceback": [
      "\u001b[1;31m---------------------------------------------------------------------------\u001b[0m",
      "\u001b[1;31mTypeError\u001b[0m                                 Traceback (most recent call last)",
      "Cell \u001b[1;32mIn[90], line 7\u001b[0m\n\u001b[0;32m      5\u001b[0m     \u001b[39mprint\u001b[39m(salario)\n\u001b[0;32m      6\u001b[0m \u001b[39mfor\u001b[39;00m i \u001b[39min\u001b[39;00m \u001b[39mrange\u001b[39m (\u001b[39m1000\u001b[39m):\n\u001b[1;32m----> 7\u001b[0m     \u001b[39mfor\u001b[39;00m vendas \u001b[39min\u001b[39;00m vendas:\n\u001b[0;32m      8\u001b[0m         \u001b[39mprint\u001b[39m(\u001b[39m\"\u001b[39m\u001b[39m0\u001b[39m\u001b[39m\"\u001b[39m)\n",
      "\u001b[1;31mTypeError\u001b[0m: 'int' object is not iterable"
     ]
    }
   ],
   "source": [
    "vendas = [1000, 2000, 3000, 4000, 5000, 6000, 5500, 4500, 3600]\n",
    "inter = float(200)\n",
    "for vendas in vendas:\n",
    "    salario = vendas + 200 + 0.09 * vendas\n",
    "    print(salario)\n",
    "for i in range (1000):\n",
    "    for vendas in vendas:\n",
    "        print(\"0\")"
   ]
  }
 ],
 "metadata": {
  "kernelspec": {
   "display_name": "Python 3",
   "language": "python",
   "name": "python3"
  },
  "language_info": {
   "codemirror_mode": {
    "name": "ipython",
    "version": 3
   },
   "file_extension": ".py",
   "mimetype": "text/x-python",
   "name": "python",
   "nbconvert_exporter": "python",
   "pygments_lexer": "ipython3",
   "version": "3.11.0"
  },
  "orig_nbformat": 4
 },
 "nbformat": 4,
 "nbformat_minor": 2
}
