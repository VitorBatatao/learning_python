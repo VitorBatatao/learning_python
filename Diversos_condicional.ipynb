{
 "cells": [
  {
   "cell_type": "markdown",
   "metadata": {},
   "source": [
    "1. Faça um Programa que peça dois números e imprima o maior deles."
   ]
  },
  {
   "cell_type": "code",
   "execution_count": 3,
   "metadata": {},
   "outputs": [
    {
     "name": "stdout",
     "output_type": "stream",
     "text": [
      "O maior numero é:50\n"
     ]
    }
   ],
   "source": [
    "import numpy as np\n",
    "v1 = np.array([0,0])\n",
    "v2 = np.array([\"primeiro\",\"segundo\"])\n",
    "contagem = int(0)\n",
    "for contagem in range(0,2):\n",
    "    v1[contagem] = float(input(f\"Digite o {v2[contagem]}:\"))\n",
    "if v1[0] > v1[1]:\n",
    "    print(\"O maior numero é:{}\".format(v1[0]))\n",
    "else:\n",
    "    print(\"O maior numero é: {}\".format(v1[1]))"
   ]
  },
  {
   "cell_type": "markdown",
   "metadata": {},
   "source": [
    "2. Faça um Programa que peça um valor e mostre na tela se o valor é positivo ou negativo."
   ]
  },
  {
   "cell_type": "code",
   "execution_count": 14,
   "metadata": {},
   "outputs": [
    {
     "name": "stdout",
     "output_type": "stream",
     "text": [
      "O número 54.0 é positivo\n"
     ]
    }
   ],
   "source": [
    "Número = input(\"Digite um número qualquer:\")\n",
    "if Número == \"\":\n",
    "    print(\"Você não digitou nada\")\n",
    "else:\n",
    "    Número = float(Número)\n",
    "    if Número < 0:\n",
    "        print(\"O número \" + str(Número) + \" é negativo\")\n",
    "    elif Número == 0:\n",
    "        print(\"O número \"+str(Número)+\" é nulo\")\n",
    "    elif Número > 0:\n",
    "        print(\"O número \"+str(Número)+\" é positivo\")"
   ]
  },
  {
   "cell_type": "markdown",
   "metadata": {},
   "source": [
    "3. Faça um Programa que verifique o estado civil de uma pessoa. Se a letra digitada é \"C\" (Casado), \"S\" (Solteiro), \"D\" (Divorciado), \"V\" (Viúvo) ou \"O\" (outros). Conforme a letra escrita pelo usuário seu programa deve escrever o estado civil, exemplo:\n",
    "Usuário digita: C\n",
    "\n",
    "Seu programa deve responder: C - Casado"
   ]
  },
  {
   "cell_type": "code",
   "execution_count": 27,
   "metadata": {},
   "outputs": [
    {
     "name": "stdout",
     "output_type": "stream",
     "text": [
      "Outros\n"
     ]
    }
   ],
   "source": [
    "Estado_Civil = str(input(\"Digite C para casado, S para solteiro, D para divorciado, V para viúvo, e O para outros\"))\n",
    "if Estado_Civil == \"\":\n",
    "    print(\"Você não digitou nada\")\n",
    "elif (\"c\" or \"C\") == Estado_Civil:\n",
    "    print(\"Você é casado\")\n",
    "elif (\"s\" or \"S\") == Estado_Civil:\n",
    "    print(\"Você é solteiro\")\n",
    "elif (\"d\" or \"D\") == Estado_Civil:\n",
    "    print(\"Você é divorciado\")\n",
    "elif (\"v\" or \"V\") == Estado_Civil:\n",
    "    print(\"Você é viúvo\")\n",
    "elif (\"o\" or \"O\") == Estado_Civil:\n",
    "    print(\"Outros\")"
   ]
  }
 ],
 "metadata": {
  "kernelspec": {
   "display_name": "Python 3",
   "language": "python",
   "name": "python3"
  },
  "language_info": {
   "codemirror_mode": {
    "name": "ipython",
    "version": 3
   },
   "file_extension": ".py",
   "mimetype": "text/x-python",
   "name": "python",
   "nbconvert_exporter": "python",
   "pygments_lexer": "ipython3",
   "version": "3.11.0"
  },
  "orig_nbformat": 4
 },
 "nbformat": 4,
 "nbformat_minor": 2
}
