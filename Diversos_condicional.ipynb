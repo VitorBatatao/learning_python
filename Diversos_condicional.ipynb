{
 "cells": [
  {
   "cell_type": "markdown",
   "metadata": {},
   "source": [
    "1. Faça um Programa que peça dois números e imprima o maior deles."
   ]
  },
  {
   "cell_type": "code",
   "execution_count": 3,
   "metadata": {},
   "outputs": [
    {
     "name": "stdout",
     "output_type": "stream",
     "text": [
      "O maior numero é:50\n"
     ]
    }
   ],
   "source": [
    "import numpy as np\n",
    "v1 = np.array([0,0])\n",
    "v2 = np.array([\"primeiro\",\"segundo\"])\n",
    "contagem = int(0)\n",
    "for contagem in range(0,2):\n",
    "    v1[contagem] = float(input(f\"Digite o {v2[contagem]}:\"))\n",
    "if v1[0] > v1[1]:\n",
    "    print(\"O maior numero é:{}\".format(v1[0]))\n",
    "else:\n",
    "    print(\"O maior numero é: {}\".format(v1[1]))"
   ]
  },
  {
   "cell_type": "markdown",
   "metadata": {},
   "source": [
    "2. Faça um Programa que peça um valor e mostre na tela se o valor é positivo ou negativo."
   ]
  },
  {
   "cell_type": "code",
   "execution_count": 14,
   "metadata": {},
   "outputs": [
    {
     "name": "stdout",
     "output_type": "stream",
     "text": [
      "O número 54.0 é positivo\n"
     ]
    }
   ],
   "source": [
    "Número = input(\"Digite um número qualquer:\")\n",
    "if Número == \"\":\n",
    "    print(\"Você não digitou nada\")\n",
    "else:\n",
    "    Número = float(Número)\n",
    "    if Número < 0:\n",
    "        print(\"O número \" + str(Número) + \" é negativo\")\n",
    "    elif Número == 0:\n",
    "        print(\"O número \"+str(Número)+\" é nulo\")\n",
    "    elif Número > 0:\n",
    "        print(\"O número \"+str(Número)+\" é positivo\")"
   ]
  },
  {
   "cell_type": "markdown",
   "metadata": {},
   "source": [
    "3. Faça um Programa que verifique o estado civil de uma pessoa. Se a letra digitada é \"C\" (Casado), \"S\" (Solteiro), \"D\" (Divorciado), \"V\" (Viúvo) ou \"O\" (outros). Conforme a letra escrita pelo usuário seu programa deve escrever o estado civil, exemplo:\n",
    "Usuário digita: C\n",
    "\n",
    "Seu programa deve responder: C - Casado"
   ]
  },
  {
   "cell_type": "code",
   "execution_count": 27,
   "metadata": {},
   "outputs": [
    {
     "name": "stdout",
     "output_type": "stream",
     "text": [
      "Outros\n"
     ]
    }
   ],
   "source": [
    "Estado_Civil = str(input(\"Digite C para casado, S para solteiro, D para divorciado, V para viúvo, e O para outros\"))\n",
    "if Estado_Civil == \"\":\n",
    "    print(\"Você não digitou nada\")\n",
    "elif (\"c\" or \"C\") == Estado_Civil:\n",
    "    print(\"Você é casado\")\n",
    "elif (\"s\" or \"S\") == Estado_Civil:\n",
    "    print(\"Você é solteiro\")\n",
    "elif (\"d\" or \"D\") == Estado_Civil:\n",
    "    print(\"Você é divorciado\")\n",
    "elif (\"v\" or \"V\") == Estado_Civil:\n",
    "    print(\"Você é viúvo\")\n",
    "elif (\"o\" or \"O\") == Estado_Civil:\n",
    "    print(\"Outros\")"
   ]
  },
  {
   "cell_type": "markdown",
   "metadata": {},
   "source": [
    "4. Faça um Programa que verifique se o e-mail digitado faz parte dos e-mails de spam."
   ]
  },
  {
   "cell_type": "code",
   "execution_count": 9,
   "metadata": {},
   "outputs": [
    {
     "name": "stdout",
     "output_type": "stream",
     "text": [
      "Não foi digitado nada\n"
     ]
    }
   ],
   "source": [
    "import numpy as np\n",
    "\n",
    "email_spam = np.array([\"fulano@gmail.com\", \"beltrano@gmail.com\", \"ciclano@gmail.com\"])\n",
    "email = str(input(\"Digite um e-mail: \"))\n",
    "spam = int(0)\n",
    "Resultado = int(0)\n",
    "if email == \"\":\n",
    "    print(\"Não foi digitado nada\")\n",
    "else:\n",
    "    for spam in range (0,3):\n",
    "        if email == email_spam[spam]:\n",
    "            \n",
    "            Resultado = Resultado+1\n",
    "    if Resultado > 0:\n",
    "        print(f\"O email {email} é um spam\")\n",
    "\n",
    "    else:\n",
    "\n",
    "        print(\"O email {} não é um spam\".format(email))\n",
    "\n"
   ]
  },
  {
   "cell_type": "markdown",
   "metadata": {},
   "source": [
    "5. Faça um programa para a leitura de duas notas parciais de um aluno. O programa deve calcular a média alcançada por aluno e apresentar:"
   ]
  },
  {
   "cell_type": "code",
   "execution_count": 39,
   "metadata": {},
   "outputs": [
    {
     "name": "stdout",
     "output_type": "stream",
     "text": [
      "0\n",
      "1\n",
      "A nota do aluno é: 10.0\n",
      "10.0\n",
      "Aprovado com distinção\n"
     ]
    }
   ],
   "source": [
    "import numpy as np\n",
    "nota = np.array([0,0])\n",
    "descr = np.array([\"primira\",\"segunda\"])\n",
    "x = int(0)\n",
    "while True:\n",
    "    print(x)\n",
    "    nota[x] = float(input(f\"Digite a {descr[x]} nota do aluno:\"))\n",
    "    x = x + 1\n",
    "    if x == 2:\n",
    "        break\n",
    "print(\"A nota do aluno é: {}\".format((nota[0] + nota[1])/2))\n",
    "x = (nota[0] + nota[1])/2\n",
    "print(x)\n",
    "if x >= 7 and x < 10:\n",
    "    print(\"Aprovado\")\n",
    "elif x < 7:\n",
    "    print(\"Reprovado\")\n",
    "elif x == 10:\n",
    "    print(\"Aprovado com distinção\")\n"
   ]
  },
  {
   "cell_type": "markdown",
   "metadata": {},
   "source": [
    "6. Faça um Programa que leia o orçamento de 3 empresas e mostre o maior deles."
   ]
  },
  {
   "cell_type": "code",
   "execution_count": 46,
   "metadata": {},
   "outputs": [
    {
     "name": "stdout",
     "output_type": "stream",
     "text": [
      "O melhor orçamento é: 30\n"
     ]
    }
   ],
   "source": [
    "import numpy as np\n",
    "orç = np.array([0,0,0])\n",
    "desc = np.array([\"primeiro\", \"segundo\", \"terceiro\"])\n",
    "x = int(0)\n",
    "final = float(0)\n",
    "for x in range(0,3):\n",
    "    orç[x] = float(input(f\"Digite o {desc[x]} orçamento: \"))\n",
    "\n",
    "if orç [0] > orç [1]:\n",
    "    if orç[0] > orç [2]:\n",
    "        print(\"O melhor orçamento é: \"+str(orç[0]))\n",
    "    else:\n",
    "        print(\"O melhor orçamento é: \"+str(orç[2]))\n",
    "else:\n",
    "    if orç[1] > orç[2]:\n",
    "        print(\"O melhor orçamento é: \"+str(orç[1]))\n",
    "    else:\n",
    "        print(\"O melhor orçamento é: \"+str(orç[2]))"
   ]
  },
  {
   "cell_type": "markdown",
   "metadata": {},
   "source": [
    "7. Faça um Programa que leia três orçamentos e mostre o maior e o menor deles."
   ]
  },
  {
   "cell_type": "code",
   "execution_count": 20,
   "metadata": {},
   "outputs": [
    {
     "name": "stdout",
     "output_type": "stream",
     "text": [
      "O orçamento maior é: 30\n",
      "O orçamento menor foi: 10\n",
      "0\n"
     ]
    }
   ],
   "source": [
    "import numpy as np\n",
    "Orç = np.array([0,0,0])\n",
    "Desc = np.array([\"primeiro\",\"segundo\",\"terceiro\"])\n",
    "Maior = np.array([0,0])\n",
    "Menor = np.array([0,0])\n",
    "x = int(0)\n",
    "y = int(0)\n",
    "for x in range(0,3):\n",
    "    Orç[x] = float(input(\"Digite o {} orçamento: \".format(Desc[x])))\n",
    "while True:\n",
    "    if y==2:\n",
    "        break\n",
    "    if Orç[y] > Orç[y+1]:\n",
    "        Maior[y] = Orç[y]\n",
    "    else:\n",
    "        Maior[y] = Orç[y+1]\n",
    "    y = y+1\n",
    "\n",
    "y = 0 \n",
    "\n",
    "while True:\n",
    "    if y==2:\n",
    "        break\n",
    "    if Orç[y] < Orç[y+1]:\n",
    "        Menor[y] = Orç[y]\n",
    "    else:\n",
    "        Menor[y] = Orç[y+1]\n",
    "    y = y+1\n",
    "\n",
    "y = 0\n",
    "\n",
    "if Maior[y] > Maior[y+1]:\n",
    "    print(\"O orçamento maior foi: {}\".format(Maior[y]))\n",
    "\n",
    "if Maior[y] < Maior[y+1]:\n",
    "    print(f\"O orçamento maior é: {Maior[y+1]}\")\n",
    "\n",
    "if Menor[y] < Menor[y+1]:\n",
    "    print(\"O orçamento menor foi: {}\".format(Menor[y]))\n",
    "\n",
    "if Menor[y] > Menor[y+1]:\n",
    "    print(f\"O orçamento menor é: {Menor[y+1]}\")\n",
    "\n",
    "\n"
   ]
  },
  {
   "cell_type": "markdown",
   "metadata": {},
   "source": [
    "8. Faça um programa que pergunte o preço de três produtos e informe qual produto você deve comprar, sabendo que a decisão é sempre pelo mais barato."
   ]
  },
  {
   "cell_type": "code",
   "execution_count": 24,
   "metadata": {},
   "outputs": [],
   "source": [
    "import numpy as np\n",
    "Orç = np.array([0,0,0])\n",
    "Desc = np.array([\"primeiro\",\"segundo\",\"terceiro\"])\n",
    "Menor = np.array([0,0])\n",
    "x = int(0)\n",
    "y = int(0)\n",
    "for x in range(0,3):\n",
    "    Orç[x] = float(input(\"Digite o {} preço do produto: \".format(Desc[x])))\n",
    "\n",
    "while True:\n",
    "    if y==2:\n",
    "        break\n",
    "    if Orç[y] < Orç[y+1]:\n",
    "        Menor[y] = Orç[y]\n",
    "    else:\n",
    "        Menor[y] = Orç[y+1]\n",
    "    y = y+1\n",
    "\n",
    "y = 0\n",
    "\n",
    "if Menor[y] < Menor[y+1]:\n",
    "    print(\"O produto com menor preço foi: {}\".format(Menor[y]))\n",
    "\n",
    "if Menor[y] > Menor[y+1]:\n",
    "    print(f\"O produto com menor preço foi: {Menor[y+1]}\")\n"
   ]
  },
  {
   "cell_type": "markdown",
   "metadata": {},
   "source": [
    "9. Faça um Programa que leia três números e mostre-os em ordem decrescente."
   ]
  },
  {
   "cell_type": "code",
   "execution_count": 30,
   "metadata": {},
   "outputs": [
    {
     "name": "stdout",
     "output_type": "stream",
     "text": [
      "Numero maior 100\n",
      "Numero do meio 50\n",
      "Numero menor 30\n"
     ]
    }
   ],
   "source": [
    "import numpy as np\n",
    "numeração = np.array([0,0,0])\n",
    "descrição = np.array([\"primeiro\", \"segundo\", \"terceiro\"])\n",
    "y = np.array([0,0])\n",
    "x = int(0)\n",
    "for x in range(0,3):\n",
    "    numeração[x] = float(input(f\"Digite o {descrição[x]} número: \"))\n",
    "\n",
    "if numeração[0] > numeração[1] and numeração[0] > numeração[2]:\n",
    "    print(f\"Numero maior {numeração[0]}\")\n",
    "    if numeração[1] > numeração[2]:\n",
    "        print(f\"Numero do meio {numeração[1]}\")\n",
    "        print(f\"Numero menor {numeração[2]}\")\n",
    "    else:\n",
    "        print(f\"Numero do meio {numeração[2]}\")\n",
    "        print(f\"Numero menor {numeração[1]}\")\n",
    "\n",
    "if numeração[1] > numeração[2] and numeração[1] > numeração[0]:\n",
    "    print(f\"Numero maior {numeração[1]}\")\n",
    "    if numeração[2] > numeração[0]:\n",
    "        print(f\"Numero do meio {numeração[2]}\")\n",
    "        print(f\"Numero menor {numeração[0]}\")\n",
    "    else:\n",
    "        print(f\"Numero do meio {numeração[0]}\")\n",
    "        print(f\"Numero menor {numeração[2]}\")\n",
    "\n",
    "if numeração[2] > numeração[0] and numeração[2] > numeração[1]:\n",
    "    print(f\"Numero maior {numeração[2]}\")\n",
    "    if numeração[0] > numeração[1]:\n",
    "        print(f\"Numero do meio {numeração[0]}\")\n",
    "        print(f\"Numero menor {numeração[1]}\")\n",
    "    else:\n",
    "        print(f\"Numero do meio {numeração[1]}\")\n",
    "        print(f\"Numero menor {numeração[0]}\")\n",
    "    \n",
    "    \n",
    "\n",
    "    \n",
    "\n"
   ]
  }
 ],
 "metadata": {
  "kernelspec": {
   "display_name": "Python 3",
   "language": "python",
   "name": "python3"
  },
  "language_info": {
   "codemirror_mode": {
    "name": "ipython",
    "version": 3
   },
   "file_extension": ".py",
   "mimetype": "text/x-python",
   "name": "python",
   "nbconvert_exporter": "python",
   "pygments_lexer": "ipython3",
   "version": "3.11.0"
  },
  "orig_nbformat": 4
 },
 "nbformat": 4,
 "nbformat_minor": 2
}
