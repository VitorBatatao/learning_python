{
 "cells": [
  {
   "cell_type": "markdown",
   "metadata": {},
   "source": [
    "1. Faça um Programa que peça dois números e imprima o maior deles."
   ]
  },
  {
   "cell_type": "code",
   "execution_count": 3,
   "metadata": {},
   "outputs": [
    {
     "name": "stdout",
     "output_type": "stream",
     "text": [
      "O maior numero é:50\n"
     ]
    }
   ],
   "source": [
    "import numpy as np\n",
    "v1 = np.array([0,0])\n",
    "v2 = np.array([\"primeiro\",\"segundo\"])\n",
    "contagem = int(0)\n",
    "for contagem in range(0,2):\n",
    "    v1[contagem] = float(input(f\"Digite o {v2[contagem]}:\"))\n",
    "if v1[0] > v1[1]:\n",
    "    print(\"O maior numero é:{}\".format(v1[0]))\n",
    "else:\n",
    "    print(\"O maior numero é: {}\".format(v1[1]))"
   ]
  },
  {
   "cell_type": "markdown",
   "metadata": {},
   "source": [
    "2. Faça um Programa que peça um valor e mostre na tela se o valor é positivo ou negativo."
   ]
  },
  {
   "cell_type": "code",
   "execution_count": 14,
   "metadata": {},
   "outputs": [
    {
     "name": "stdout",
     "output_type": "stream",
     "text": [
      "O número 54.0 é positivo\n"
     ]
    }
   ],
   "source": [
    "Número = input(\"Digite um número qualquer:\")\n",
    "if Número == \"\":\n",
    "    print(\"Você não digitou nada\")\n",
    "else:\n",
    "    Número = float(Número)\n",
    "    if Número < 0:\n",
    "        print(\"O número \" + str(Número) + \" é negativo\")\n",
    "    elif Número == 0:\n",
    "        print(\"O número \"+str(Número)+\" é nulo\")\n",
    "    elif Número > 0:\n",
    "        print(\"O número \"+str(Número)+\" é positivo\")"
   ]
  },
  {
   "cell_type": "markdown",
   "metadata": {},
   "source": [
    "3. Faça um Programa que verifique o estado civil de uma pessoa. Se a letra digitada é \"C\" (Casado), \"S\" (Solteiro), \"D\" (Divorciado), \"V\" (Viúvo) ou \"O\" (outros). Conforme a letra escrita pelo usuário seu programa deve escrever o estado civil, exemplo:\n",
    "Usuário digita: C\n",
    "\n",
    "Seu programa deve responder: C - Casado"
   ]
  },
  {
   "cell_type": "code",
   "execution_count": 27,
   "metadata": {},
   "outputs": [
    {
     "name": "stdout",
     "output_type": "stream",
     "text": [
      "Outros\n"
     ]
    }
   ],
   "source": [
    "Estado_Civil = str(input(\"Digite C para casado, S para solteiro, D para divorciado, V para viúvo, e O para outros\"))\n",
    "if Estado_Civil == \"\":\n",
    "    print(\"Você não digitou nada\")\n",
    "elif (\"c\" or \"C\") == Estado_Civil:\n",
    "    print(\"Você é casado\")\n",
    "elif (\"s\" or \"S\") == Estado_Civil:\n",
    "    print(\"Você é solteiro\")\n",
    "elif (\"d\" or \"D\") == Estado_Civil:\n",
    "    print(\"Você é divorciado\")\n",
    "elif (\"v\" or \"V\") == Estado_Civil:\n",
    "    print(\"Você é viúvo\")\n",
    "elif (\"o\" or \"O\") == Estado_Civil:\n",
    "    print(\"Outros\")"
   ]
  },
  {
   "cell_type": "markdown",
   "metadata": {},
   "source": [
    "4. Faça um Programa que verifique se o e-mail digitado faz parte dos e-mails de spam."
   ]
  },
  {
   "cell_type": "code",
   "execution_count": 9,
   "metadata": {},
   "outputs": [
    {
     "name": "stdout",
     "output_type": "stream",
     "text": [
      "Não foi digitado nada\n"
     ]
    }
   ],
   "source": [
    "import numpy as np\n",
    "\n",
    "email_spam = np.array([\"fulano@gmail.com\", \"beltrano@gmail.com\", \"ciclano@gmail.com\"])\n",
    "email = str(input(\"Digite um e-mail: \"))\n",
    "spam = int(0)\n",
    "Resultado = int(0)\n",
    "if email == \"\":\n",
    "    print(\"Não foi digitado nada\")\n",
    "else:\n",
    "    for spam in range (0,3):\n",
    "        if email == email_spam[spam]:\n",
    "            \n",
    "            Resultado = Resultado+1\n",
    "    if Resultado > 0:\n",
    "        print(f\"O email {email} é um spam\")\n",
    "\n",
    "    else:\n",
    "\n",
    "        print(\"O email {} não é um spam\".format(email))\n",
    "\n"
   ]
  },
  {
   "cell_type": "markdown",
   "metadata": {},
   "source": [
    "5. Faça um programa para a leitura de duas notas parciais de um aluno. O programa deve calcular a média alcançada por aluno e apresentar:"
   ]
  },
  {
   "cell_type": "code",
   "execution_count": 39,
   "metadata": {},
   "outputs": [
    {
     "name": "stdout",
     "output_type": "stream",
     "text": [
      "0\n",
      "1\n",
      "A nota do aluno é: 10.0\n",
      "10.0\n",
      "Aprovado com distinção\n"
     ]
    }
   ],
   "source": [
    "import numpy as np\n",
    "nota = np.array([0,0])\n",
    "descr = np.array([\"primira\",\"segunda\"])\n",
    "x = int(0)\n",
    "while True:\n",
    "    print(x)\n",
    "    nota[x] = float(input(f\"Digite a {descr[x]} nota do aluno:\"))\n",
    "    x = x + 1\n",
    "    if x == 2:\n",
    "        break\n",
    "print(\"A nota do aluno é: {}\".format((nota[0] + nota[1])/2))\n",
    "x = (nota[0] + nota[1])/2\n",
    "print(x)\n",
    "if x >= 7 and x < 10:\n",
    "    print(\"Aprovado\")\n",
    "elif x < 7:\n",
    "    print(\"Reprovado\")\n",
    "elif x == 10:\n",
    "    print(\"Aprovado com distinção\")\n"
   ]
  },
  {
   "cell_type": "markdown",
   "metadata": {},
   "source": [
    "6. Faça um Programa que leia o orçamento de 3 empresas e mostre o maior deles."
   ]
  },
  {
   "cell_type": "code",
   "execution_count": 46,
   "metadata": {},
   "outputs": [
    {
     "name": "stdout",
     "output_type": "stream",
     "text": [
      "O melhor orçamento é: 30\n"
     ]
    }
   ],
   "source": [
    "import numpy as np\n",
    "orç = np.array([0,0,0])\n",
    "desc = np.array([\"primeiro\", \"segundo\", \"terceiro\"])\n",
    "x = int(0)\n",
    "final = float(0)\n",
    "for x in range(0,3):\n",
    "    orç[x] = float(input(f\"Digite o {desc[x]} orçamento: \"))\n",
    "\n",
    "if orç [0] > orç [1]:\n",
    "    if orç[0] > orç [2]:\n",
    "        print(\"O melhor orçamento é: \"+str(orç[0]))\n",
    "    else:\n",
    "        print(\"O melhor orçamento é: \"+str(orç[2]))\n",
    "else:\n",
    "    if orç[1] > orç[2]:\n",
    "        print(\"O melhor orçamento é: \"+str(orç[1]))\n",
    "    else:\n",
    "        print(\"O melhor orçamento é: \"+str(orç[2]))"
   ]
  },
  {
   "cell_type": "markdown",
   "metadata": {},
   "source": [
    "7. Faça um Programa que leia três orçamentos e mostre o maior e o menor deles."
   ]
  },
  {
   "cell_type": "code",
   "execution_count": 20,
   "metadata": {},
   "outputs": [
    {
     "name": "stdout",
     "output_type": "stream",
     "text": [
      "O orçamento maior é: 30\n",
      "O orçamento menor foi: 10\n",
      "0\n"
     ]
    }
   ],
   "source": [
    "import numpy as np\n",
    "Orç = np.array([0,0,0])\n",
    "Desc = np.array([\"primeiro\",\"segundo\",\"terceiro\"])\n",
    "Maior = np.array([0,0])\n",
    "Menor = np.array([0,0])\n",
    "x = int(0)\n",
    "y = int(0)\n",
    "for x in range(0,3):\n",
    "    Orç[x] = float(input(\"Digite o {} orçamento: \".format(Desc[x])))\n",
    "while True:\n",
    "    if y==2:\n",
    "        break\n",
    "    if Orç[y] > Orç[y+1]:\n",
    "        Maior[y] = Orç[y]\n",
    "    else:\n",
    "        Maior[y] = Orç[y+1]\n",
    "    y = y+1\n",
    "\n",
    "y = 0 \n",
    "\n",
    "while True:\n",
    "    if y==2:\n",
    "        break\n",
    "    if Orç[y] < Orç[y+1]:\n",
    "        Menor[y] = Orç[y]\n",
    "    else:\n",
    "        Menor[y] = Orç[y+1]\n",
    "    y = y+1\n",
    "\n",
    "y = 0\n",
    "\n",
    "if Maior[y] > Maior[y+1]:\n",
    "    print(\"O orçamento maior foi: {}\".format(Maior[y]))\n",
    "\n",
    "if Maior[y] < Maior[y+1]:\n",
    "    print(f\"O orçamento maior é: {Maior[y+1]}\")\n",
    "\n",
    "if Menor[y] < Menor[y+1]:\n",
    "    print(\"O orçamento menor foi: {}\".format(Menor[y]))\n",
    "\n",
    "if Menor[y] > Menor[y+1]:\n",
    "    print(f\"O orçamento menor é: {Menor[y+1]}\")\n",
    "\n",
    "\n"
   ]
  },
  {
   "cell_type": "markdown",
   "metadata": {},
   "source": [
    "8. Faça um programa que pergunte o preço de três produtos e informe qual produto você deve comprar, sabendo que a decisão é sempre pelo mais barato."
   ]
  },
  {
   "cell_type": "code",
   "execution_count": 24,
   "metadata": {},
   "outputs": [],
   "source": [
    "import numpy as np\n",
    "Orç = np.array([0,0,0])\n",
    "Desc = np.array([\"primeiro\",\"segundo\",\"terceiro\"])\n",
    "Menor = np.array([0,0])\n",
    "x = int(0)\n",
    "y = int(0)\n",
    "for x in range(0,3):\n",
    "    Orç[x] = float(input(\"Digite o {} preço do produto: \".format(Desc[x])))\n",
    "\n",
    "while True:\n",
    "    if y==2:\n",
    "        break\n",
    "    if Orç[y] < Orç[y+1]:\n",
    "        Menor[y] = Orç[y]\n",
    "    else:\n",
    "        Menor[y] = Orç[y+1]\n",
    "    y = y+1\n",
    "\n",
    "y = 0\n",
    "\n",
    "if Menor[y] < Menor[y+1]:\n",
    "    print(\"O produto com menor preço foi: {}\".format(Menor[y]))\n",
    "\n",
    "if Menor[y] > Menor[y+1]:\n",
    "    print(f\"O produto com menor preço foi: {Menor[y+1]}\")\n"
   ]
  },
  {
   "cell_type": "markdown",
   "metadata": {},
   "source": [
    "9. Faça um Programa que leia três números e mostre-os em ordem decrescente."
   ]
  },
  {
   "cell_type": "code",
   "execution_count": 30,
   "metadata": {},
   "outputs": [
    {
     "name": "stdout",
     "output_type": "stream",
     "text": [
      "Numero maior 100\n",
      "Numero do meio 50\n",
      "Numero menor 30\n"
     ]
    }
   ],
   "source": [
    "import numpy as np\n",
    "numeração = np.array([0,0,0])\n",
    "descrição = np.array([\"primeiro\", \"segundo\", \"terceiro\"])\n",
    "y = np.array([0,0])\n",
    "x = int(0)\n",
    "for x in range(0,3):\n",
    "    numeração[x] = float(input(f\"Digite o {descrição[x]} número: \"))\n",
    "\n",
    "if numeração[0] > numeração[1] and numeração[0] > numeração[2]:\n",
    "    print(f\"Numero maior {numeração[0]}\")\n",
    "    if numeração[1] > numeração[2]:\n",
    "        print(f\"Numero do meio {numeração[1]}\")\n",
    "        print(f\"Numero menor {numeração[2]}\")\n",
    "    else:\n",
    "        print(f\"Numero do meio {numeração[2]}\")\n",
    "        print(f\"Numero menor {numeração[1]}\")\n",
    "\n",
    "if numeração[1] > numeração[2] and numeração[1] > numeração[0]:\n",
    "    print(f\"Numero maior {numeração[1]}\")\n",
    "    if numeração[2] > numeração[0]:\n",
    "        print(f\"Numero do meio {numeração[2]}\")\n",
    "        print(f\"Numero menor {numeração[0]}\")\n",
    "    else:\n",
    "        print(f\"Numero do meio {numeração[0]}\")\n",
    "        print(f\"Numero menor {numeração[2]}\")\n",
    "\n",
    "if numeração[2] > numeração[0] and numeração[2] > numeração[1]:\n",
    "    print(f\"Numero maior {numeração[2]}\")\n",
    "    if numeração[0] > numeração[1]:\n",
    "        print(f\"Numero do meio {numeração[0]}\")\n",
    "        print(f\"Numero menor {numeração[1]}\")\n",
    "    else:\n",
    "        print(f\"Numero do meio {numeração[1]}\")\n",
    "        print(f\"Numero menor {numeração[0]}\")\n",
    "    \n",
    "    \n",
    "\n",
    "    \n",
    "\n"
   ]
  },
  {
   "cell_type": "markdown",
   "metadata": {},
   "source": [
    "10. Faça um Programa que pergunte em que turno você estuda. Peça para digitar M-matutino ou V-Vespertino ou N- Noturno. Imprima a mensagem \"Bom Dia!\", \"Boa Tarde!\" ou \"Boa Noite!\" ou \"Valor Inválido!\", conforme o caso.\n"
   ]
  },
  {
   "cell_type": "code",
   "execution_count": 29,
   "metadata": {},
   "outputs": [
    {
     "name": "stdout",
     "output_type": "stream",
     "text": [
      "Boa tarde!\n",
      "Boa tarde!\n",
      "Boa tarde!\n",
      "Boa tarde!\n",
      "Boa tarde!\n",
      "Boa tarde!\n",
      "Boa tarde!\n",
      "Invalido\n"
     ]
    }
   ],
   "source": [
    "import numpy as np\n",
    "resp = np.array([\"Bom dia\", \"Boa tarde\", \"Boa noite\"])\n",
    "perg = str()\n",
    "while True:\n",
    "    perg = str(input(\"Digite o período em que você estuda com M para matutino, V para vespertino ou N para noturo: \"))\n",
    "    if \"m\" == perg or \"M\" == perg:\n",
    "        print(\"Bom dia!\")\n",
    "    elif \"v\" == perg or \"V\" == perg:\n",
    "        print(\"Boa tarde!\")\n",
    "    elif \"n\" == perg or \"N\" == perg:\n",
    "        print(\"Boa noite!\")\n",
    "    elif \"s\" == perg or \"S\" == perg:\n",
    "        break\n",
    "    else:\n",
    "        print(\"Invalido\")\n",
    "    \n"
   ]
  },
  {
   "cell_type": "markdown",
   "metadata": {},
   "source": [
    "Faça um programa para o cálculo de uma folha de pagamento, sabendo que os descontos são do Imposto de Renda, que depende do salário bruto (conforme tabela abaixo) e que o FGTS corresponde a 11% do Salário Bruto, mas não é descontado (é a empresa que deposita). O Salário Líquido corresponde ao Salário Bruto menos os descontos. O programa deverá pedir ao usuário o valor da sua hora e a quantidade de horas trabalhadas no mês.\n",
    "Desconto do IR:\n",
    "Salário Bruto até 900 (inclusive) - isento\n",
    "Salário Bruto até 1500 (inclusive) - desconto de 5%\n",
    "Salário Bruto até 2500 (inclusive) - desconto de 10%\n",
    "Salário Bruto acima de 2500 - desconto de 20%\n",
    "Imprima na tela as informações, dispostas conforme o exemplo abaixo. No exemplo o valor da hora é 5 e a quantidade de hora é 220.\n",
    "\n",
    "Salário Bruto: (5 * 220) : R\\$ 1100,00\n",
    "(-) IR (5%) : R\\$ 55,00\n",
    "(-) INSS ( 10%) : R\\$ 110,00\n",
    "FGTS (11%) : R\\$ 121,00\n",
    "Total de descontos : R\\$ 165,00\n",
    "Salário Liquido : R\\$ 935,00\n",
    "\n",
    "Obs: Não vamos nos preocupar tanto com a formatação dos números (nº de casas decimais, por exemplo, veremos isso no próximo módulo)"
   ]
  },
  {
   "cell_type": "code",
   "execution_count": 33,
   "metadata": {},
   "outputs": [
    {
     "name": "stdout",
     "output_type": "stream",
     "text": [
      "O seu salário bruto é de: 10000.0\n",
      "IR = 2000.0\n",
      "INSS = 1000.0\n",
      "FGTS = 1100.0\n",
      "Total de descontos:3000.0\n",
      "Salário líquido9000.0\n"
     ]
    }
   ],
   "source": [
    "vlr_hora = float(input(\"Digite o valor da sua hora: \"))\n",
    "qtd_hora = float(input(\"Digite a quantidade de horas trabalhadas: \"))\n",
    "bruto = vlr_hora * qtd_hora\n",
    "print(\"O seu salário bruto é de: {}\".format(bruto))\n",
    "if bruto < 900:\n",
    "    ir = 1\n",
    "elif bruto >= 900 and bruto < 1500:\n",
    "    ir = 0.05\n",
    "elif bruto >= 1500 and bruto < 2500:\n",
    "    ir = 0.10\n",
    "elif bruto >= 2500:\n",
    "    ir = 0.20\n",
    "print(\"IR = {}\".format(bruto * ir))\n",
    "print(\"INSS = {}\".format(bruto * 0.10))\n",
    "print(f\"FGTS = {bruto * 0.11}\")\n",
    "print(f\"Total de descontos =  {(bruto * ir) + (bruto * 0.10)}\")\n",
    "print(f\"Salário líquido =  {bruto - (bruto * ir) + (bruto * 0.10)}\")"
   ]
  },
  {
   "cell_type": "markdown",
   "metadata": {},
   "source": [
    "13. Faça um Programa que leia um número e exiba o dia correspondente da semana. (1-Domingo, 2- Segunda, etc.), se digitar outro valor deve aparecer valor inválido."
   ]
  },
  {
   "cell_type": "code",
   "execution_count": 36,
   "metadata": {},
   "outputs": [
    {
     "name": "stdout",
     "output_type": "stream",
     "text": [
      "Invalido\n"
     ]
    }
   ],
   "source": [
    "dia = int(input(\"Digite o número da semana: \"))\n",
    "\n",
    "if 1 == dia:\n",
    "    print(\"Domingo\")\n",
    "elif 2 == dia:\n",
    "    print(\"Segunda\")\n",
    "elif 3 == dia:\n",
    "    print(\"Terça\")\n",
    "elif 4 == dia:\n",
    "    print(\"Quarta\")\n",
    "elif 5 == dia:\n",
    "    print(\"Quinta\")\n",
    "elif 6 == dia:\n",
    "    print(\"Sexta\")\n",
    "elif 7 == dia:\n",
    "    print(\"Sábado\")\n",
    "else:\n",
    "    print(\"Invalido\")\n"
   ]
  },
  {
   "cell_type": "markdown",
   "metadata": {},
   "source": [
    "14. Faça um programa que lê as duas notas parciais obtidas por um aluno numa disciplina ao longo de um semestre, e calcule a sua média. Em seguida, mostre qual conceito o aluno teve. A atribuição de conceitos obedece à tabela abaixo:\n",
    "Média de Aproveitamento  Conceito\n",
    "Entre 9.0 e 10.0 (inclusive o 10.0, não inclui o 9.0)      A\n",
    "Entre 7.5 e 9.0 (inclusive o 9.0, não inclui o 7.5)        B\n",
    "Entre 6.0 e 7.5 (inclusive o 7.5, não inclui o 6.0)        C\n",
    "Entre 4.0 e 6.0 (inclusive o 6.0, não inclui o 4.0)        D\n",
    "Entre 4.0 e zero (inclusive o 4.0, inclui o 0.0)           E"
   ]
  },
  {
   "cell_type": "code",
   "execution_count": 44,
   "metadata": {},
   "outputs": [
    {
     "name": "stdout",
     "output_type": "stream",
     "text": [
      "Sua média é: 8.3\n",
      "B\n"
     ]
    }
   ],
   "source": [
    "\n",
    "quant = []\n",
    "quantidade = int(input(\"Digite a quantidade de notas: \"))\n",
    "média = float(0)\n",
    "for i in range (quantidade):\n",
    "    nota = float(input(\"Digite a {}º nota: \".format(i+1)))\n",
    "    quant.append(nota)\n",
    "for i in range (quantidade):\n",
    "    média = média + quant[i]\n",
    "    \n",
    "média = média/quantidade\n",
    "print(f\"Sua média é: {média}\")\n",
    "\n",
    "if 0 <= média < 4:\n",
    "    print(\"E\")\n",
    "elif 4 <= média < 6:\n",
    "    print(\"D\")\n",
    "elif 6 <= média < 7.5:\n",
    "    print(\"C\")\n",
    "elif 7.5 <= média < 9:\n",
    "    print(\"B\")\n",
    "elif 9 <= média <= 10:\n",
    "    print(\"A\")"
   ]
  },
  {
   "cell_type": "markdown",
   "metadata": {},
   "source": [
    "15. Você está construindo um calendário para controlar dias de trabalho a pedido do RH. Nessa construção, você vai precisar definir quais anos são bissextos e quais não são, para montar o calendário de forma correta. Faça um Programa que peça um número correspondente a um determinado ano e em seguida informe se este ano é ou não bissexto.\n",
    "Dica para determinar se um ano é bissexto: \n",
    "- São bissextos todos os anos múltiplos de 400, p.ex.: 1600, 2000, 2400, 2800...\n",
    "- São bissextos todos os múltiplos de 4, exceto se for múltiplo de 100 mas não de 400, \n",
    "p.ex.: 1996, 2000, 2004, 2008, 2012, 2016, 2020, 2024, 2028...\n",
    "- Não são bissextos todos os demais anos.\n",
    "\n",
    "ex1: 2004 é múltiplo de 4, mas não é múltiplo de 100, então é bissexto.\n",
    "ex2: 2000 é múltiplo de 4, mas é múltiplo de 100, só que também é multiplo de 400, então é bissexto (porque todo ano múltiplo de 400 é bissexto, independente do resto).\n",
    "ex3: 1900 é múltiplo de 4, é múltiplo de 100, mas não é múltiplo de 400, então não é bissexto"
   ]
  },
  {
   "cell_type": "code",
   "execution_count": 52,
   "metadata": {},
   "outputs": [
    {
     "name": "stdout",
     "output_type": "stream",
     "text": [
      "Não é bissexto\n"
     ]
    }
   ],
   "source": [
    "ano = int(input(\"Digite o ano que você gostaria de saber se é bissexto: \"))\n",
    "resto = int(0) \n",
    "if ano % 4 == 0:\n",
    "    if ano % 100 == 0 and ano % 400 == 0:\n",
    "        print(\"Bissexto\")\n",
    "    elif ano % 100 == 0 and ano % 400 != 0:\n",
    "        print(\"Não é bissexto\")\n",
    "    elif ano % 100 != 0:\n",
    "        print(\"Bissexto\")    \n",
    "else:\n",
    "    print(\"Não é bissexto\")"
   ]
  },
  {
   "cell_type": "markdown",
   "metadata": {},
   "source": [
    "16. Faça um Programa para leitura de três notas parciais de um aluno. O programa deve calcular a média alcançada por aluno e presentar:\n",
    "A mensagem \"Aprovado\", se a média for maior ou igual a 7, com a respectiva média alcançada;\n",
    "A mensagem \"Reprovado\", se a média for menor do que 7, com a respectiva média alcançada;\n",
    "A mensagem \"Aprovado com Distinção\", se a média for igual a 10."
   ]
  },
  {
   "cell_type": "code",
   "execution_count": 65,
   "metadata": {},
   "outputs": [
    {
     "name": "stdout",
     "output_type": "stream",
     "text": [
      "7.5\n",
      "Aprovado\n"
     ]
    }
   ],
   "source": [
    "quant = []\n",
    "quantidade = int(input(\"Digite a quantidade de notas:\"))\n",
    "média = float(0)\n",
    "for i in range(quantidade):\n",
    "    nota = float(input(\"Digite a {}º nota: \".format(i+1)))\n",
    "    quant.append(nota)\n",
    "for i in range(quantidade):\n",
    "    média = média + quant[i]\n",
    "\n",
    "média = média/quantidade\n",
    "print (média)\n",
    "\n",
    "if média >= 7 and média != 10:\n",
    "    print(\"Aprovado\")\n",
    "elif média < 7:\n",
    "    print(\"Reprovado\")\n",
    "elif média == 10:\n",
    "    print(\"Aprovado com distinção\")"
   ]
  },
  {
   "cell_type": "markdown",
   "metadata": {},
   "source": [
    "17. João Papo-de-Pescador, homem de bem, comprou um microcomputador para controlar o rendimento diário de seu trabalho. Toda vez que ele traz um peso de peixes maior que o estabelecido pelo regulamento de pesca do estado de São Paulo (50 quilos) deve pagar uma multa de R$ 4,00 por quilo excedente. João precisa que você faça um programa que leia a variável peso (peso de peixes) e calcule o excesso. Gravar na variável excesso a quantidade de quilos além do limite e na variável multa o valor da multa que João deverá pagar. Imprima os dados do programa com as mensagens adequadas."
   ]
  },
  {
   "cell_type": "code",
   "execution_count": 69,
   "metadata": {},
   "outputs": [
    {
     "name": "stdout",
     "output_type": "stream",
     "text": [
      "Você excedeu 1.0 de peso do permitido. Terá que pagar 4.0 reais\n"
     ]
    }
   ],
   "source": [
    "peso = float(input(\"Digite o peso: \"))\n",
    "if peso > 50:\n",
    "    acima = peso - 50\n",
    "    print(f\"Você excedeu {acima} de peso do permitido. Terá que pagar {acima * 4} reais\")\n",
    "else:\n",
    "    print(\"Você está não precisará pagar\")"
   ]
  },
  {
   "cell_type": "markdown",
   "metadata": {},
   "source": [
    "18. Faça um Programa para um caixa eletrônico. O programa deverá perguntar ao usuário a valor do saque e depois informar quantas notas de cada valor serão fornecidas. As notas disponíveis serão as de 1, 5, 10, 50 e 100 reais. O valor mínimo é de 10 reais e o máximo de 600 reais. O programa não deve se preocupar com a quantidade de notas existentes na máquina.  "
   ]
  },
  {
   "cell_type": "code",
   "execution_count": 74,
   "metadata": {},
   "outputs": [
    {
     "name": "stdout",
     "output_type": "stream",
     "text": [
      "2 notas de 100\n",
      "3 notas de 10\n",
      "1 notas de 5\n",
      "0 notas de 1\n"
     ]
    }
   ],
   "source": [
    "sacar = int(input(\"Digite o valor que você gostaria de sacar: \"))\n",
    "n100 = 0\n",
    "n50 = 0\n",
    "n10 = 0\n",
    "n5 = 0\n",
    "n1 = 0\n",
    "\n",
    "if sacar > 100:\n",
    "    n100 = sacar//100\n",
    "    print(f\"{n100} notas de 100\")\n",
    "if (sacar % 100) >= 50:\n",
    "    n50 = (sacar - n100 * 100)//50\n",
    "    print(f\"{n50} notas de 50\")\n",
    "if (sacar % 50) >= 10:\n",
    "    n10 = (sacar - n50 * 50 - n100 * 100)//10\n",
    "    print(f\"{n10} notas de 10\")\n",
    "if (sacar % 10) >= 5:\n",
    "    n5 = (sacar - n50 * 50 - n100 * 100 - n10 * 10 )//5    \n",
    "    print(f\"{n5} notas de 5\")\n",
    "if (sacar % 5) >= 1:\n",
    "    n1 = (sacar - n50 * 50 - n100 * 100 - n10 * 10 - n5 * 5 )//5    \n",
    "    print(f\"{n1} notas de 1\")"
   ]
  }
 ],
 "metadata": {
  "kernelspec": {
   "display_name": "Python 3",
   "language": "python",
   "name": "python3"
  },
  "language_info": {
   "codemirror_mode": {
    "name": "ipython",
    "version": 3
   },
   "file_extension": ".py",
   "mimetype": "text/x-python",
   "name": "python",
   "nbconvert_exporter": "python",
   "pygments_lexer": "ipython3",
   "version": "3.11.0"
  },
  "orig_nbformat": 4
 },
 "nbformat": 4,
 "nbformat_minor": 2
}
