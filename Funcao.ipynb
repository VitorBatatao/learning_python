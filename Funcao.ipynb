{
 "cells": [
  {
   "cell_type": "markdown",
   "metadata": {},
   "source": [
    "FUNÇÃO"
   ]
  },
  {
   "cell_type": "code",
   "execution_count": 13,
   "metadata": {},
   "outputs": [
    {
     "name": "stdout",
     "output_type": "stream",
     "text": [
      "('g', 'h', 'f', 'd', 'h')\n"
     ]
    }
   ],
   "source": [
    "Nomes = []\n",
    "def Cadastrar():\n",
    "    Nome = input(\"Digite seu nome aqui: \")\n",
    "    Nomes.append(Nome)\n",
    "    \n",
    "for i in range(5):\n",
    "    Cadastrar()\n",
    "\n",
    "tu = tuple(Nomes)\n",
    "print(tu)"
   ]
  }
 ],
 "metadata": {
  "kernelspec": {
   "display_name": "Python 3",
   "language": "python",
   "name": "python3"
  },
  "language_info": {
   "codemirror_mode": {
    "name": "ipython",
    "version": 3
   },
   "file_extension": ".py",
   "mimetype": "text/x-python",
   "name": "python",
   "nbconvert_exporter": "python",
   "pygments_lexer": "ipython3",
   "version": "3.11.0"
  },
  "orig_nbformat": 4
 },
 "nbformat": 4,
 "nbformat_minor": 2
}
