{
 "cells": [
  {
   "cell_type": "markdown",
   "metadata": {},
   "source": [
    "FUNÇÃO"
   ]
  },
  {
   "cell_type": "code",
   "execution_count": 13,
   "metadata": {},
   "outputs": [
    {
     "name": "stdout",
     "output_type": "stream",
     "text": [
      "('g', 'h', 'f', 'd', 'h')\n"
     ]
    }
   ],
   "source": [
    "Nomes = []\n",
    "def Cadastrar():\n",
    "    Nome = input(\"Digite seu nome aqui: \")\n",
    "    Nomes.append(Nome)\n",
    "    \n",
    "for i in range(5):\n",
    "    Cadastrar()\n",
    "\n",
    "tu = tuple(Nomes)\n",
    "print(tu)"
   ]
  },
  {
   "cell_type": "markdown",
   "metadata": {},
   "source": [
    "RETURN"
   ]
  },
  {
   "cell_type": "code",
   "execution_count": 4,
   "metadata": {},
   "outputs": [
    {
     "name": "stdout",
     "output_type": "stream",
     "text": [
      "iuiuppp\n"
     ]
    }
   ],
   "source": [
    "def cadastrar():\n",
    "    cadastro = input(\"Digite o seu nome: \")\n",
    "    cadastro = cadastro.casefold()\n",
    "    cadastro = cadastro.strip()\n",
    "    return cadastro\n",
    "Nome = cadastrar()\n",
    "print(Nome)"
   ]
  },
  {
   "cell_type": "markdown",
   "metadata": {},
   "source": [
    "FUNÇÃO COM VALORES"
   ]
  },
  {
   "cell_type": "code",
   "execution_count": 3,
   "metadata": {},
   "outputs": [
    {
     "name": "stdout",
     "output_type": "stream",
     "text": [
      "100\n"
     ]
    }
   ],
   "source": [
    "def soma(soma1,soma2,soma3):\n",
    "    return soma1 + soma2 + soma3\n",
    "\n",
    "soma_total = soma(10,30,60)\n",
    "print(soma_total)"
   ]
  },
  {
   "cell_type": "markdown",
   "metadata": {},
   "source": [
    "VERIFICAR BEBIDAS ALCOOLICAS"
   ]
  },
  {
   "cell_type": "code",
   "execution_count": 16,
   "metadata": {},
   "outputs": [
    {
     "name": "stdout",
     "output_type": "stream",
     "text": [
      "BEB21365 é uma bebida alcóolica\n",
      "BEB31623 é uma bebida alcóolica\n",
      "BEB73344 é uma bebida alcóolica\n",
      "BEB80694 é uma bebida alcóolica\n",
      "BEB19495 é uma bebida alcóolica\n",
      "BEB97471 é uma bebida alcóolica\n",
      "BEB62362 é uma bebida alcóolica\n",
      "BEB85146 é uma bebida alcóolica\n",
      "BEB48898 é uma bebida alcóolica\n",
      "BEB79496 é uma bebida alcóolica\n",
      "BEB15385 é uma bebida alcóolica\n",
      "BEB24213 é uma bebida alcóolica\n",
      "BEB56262 é uma bebida alcóolica\n",
      "BEB75073 é uma bebida alcóolica\n"
     ]
    }
   ],
   "source": [
    "def categoria(bebida):\n",
    "    bebida = bebida.upper()\n",
    "    if 'BEB' in bebida:\n",
    "        return True\n",
    "produtos = ['CAR46275','TFA23962','TFA64715','TFA69555','TFA56743','BSA45510','TFA44968','CAR75448','CAR23596','CAR13490','BEB21365','BEB31623','BSA62419','BEB73344','TFA20079','BEB80694','BSA11769','BEB19495','TFA14792','TFA78043','BSA33484','BEB97471','BEB62362','TFA27311','TFA17715','BEB85146','BEB48898','BEB79496','CAR38417','TFA19947','TFA58799','CAR94811','BSA59251','BEB15385','BEB24213','BEB56262','BSA96915','CAR53454','BEB75073']\n",
    "\n",
    "for produto in produtos:\n",
    "    if categoria (produto):\n",
    "        print(\"{} é uma bebida alcóolica\".format(produto))\n"
   ]
  },
  {
   "cell_type": "code",
   "execution_count": 18,
   "metadata": {},
   "outputs": [
    {
     "name": "stdout",
     "output_type": "stream",
     "text": [
      "CAR46275 é uma bebida alcóolica\n",
      "CAR75448 é uma bebida alcóolica\n",
      "CAR23596 é uma bebida alcóolica\n",
      "CAR13490 é uma bebida alcóolica\n",
      "CAR38417 é uma bebida alcóolica\n",
      "CAR94811 é uma bebida alcóolica\n",
      "CAR53454 é uma bebida alcóolica\n"
     ]
    }
   ],
   "source": [
    "def categoria(bebida,codigo):\n",
    "    bebida = bebida.upper()\n",
    "    if codigo in bebida:\n",
    "        return True\n",
    "produtos = ['CAR46275','TFA23962','TFA64715','TFA69555','TFA56743','BSA45510','TFA44968','CAR75448','CAR23596','CAR13490','BEB21365','BEB31623','BSA62419','BEB73344','TFA20079','BEB80694','BSA11769','BEB19495','TFA14792','TFA78043','BSA33484','BEB97471','BEB62362','TFA27311','TFA17715','BEB85146','BEB48898','BEB79496','CAR38417','TFA19947','TFA58799','CAR94811','BSA59251','BEB15385','BEB24213','BEB56262','BSA96915','CAR53454','BEB75073']\n",
    "\n",
    "for produto in produtos:\n",
    "    if categoria (produto,'CAR'):\n",
    "        print(\"{} é uma bebida alcóolica\".format(produto))"
   ]
  },
  {
   "cell_type": "markdown",
   "metadata": {},
   "source": [
    "# Exercícios\n",
    "\n",
    "Para fazer um treino simples antes de avançarmos em mais functions, vamos criar uma function que resolve 1 \"desafio simples\"\n",
    "\n",
    "## 1. Function para Cálculo de Carga Tributária\n",
    "\n",
    "(Lembrando, não se atente ao funcionamento real da carga tributária, é apenas um exemplo imaginário para treinarmos as functions com algo mais prático)\n",
    "\n",
    "Imagine que você trabalha no setor contábil de uma grande empresa de Varejo. \n",
    "\n",
    "Crie uma function que calcule qual o % de carga tributária que está sendo aplicado sobre um determinado produto, dado o preço de venda, o \"lucro\" e os custos (com exceção do imposto) dele."
   ]
  },
  {
   "cell_type": "code",
   "execution_count": 20,
   "metadata": {},
   "outputs": [
    {
     "name": "stdout",
     "output_type": "stream",
     "text": [
      "O tributo em porcentagem é de 20.0%\n"
     ]
    }
   ],
   "source": [
    "preco = 1500\n",
    "custo = 400\n",
    "lucro = 800\n",
    "def imposto (preco, custo, lucro):\n",
    "    tributo = preco - custo - lucro\n",
    "    porcentagem = tributo/preco\n",
    "    return porcentagem\n",
    "print(\"O tributo em porcentagem é de {:.1%}\".format(imposto(preco, custo, lucro)))"
   ]
  },
  {
   "cell_type": "markdown",
   "metadata": {},
   "source": [
    "- Vamos criar uma função que padronize códigos de produtos. O default será padronizar os códigos para letras minúsculas (dado por 'm'), mas se o usuário quiser pode padronizar para maiúscula, dado por ('M')."
   ]
  },
  {
   "cell_type": "code",
   "execution_count": 47,
   "metadata": {},
   "outputs": [
    {
     "name": "stdout",
     "output_type": "stream",
     "text": [
      "['ABC12', 'ABC34', 'ABC37']\n"
     ]
    }
   ],
   "source": [
    "def padronizar_codigos(lista_codigos, padrao):\n",
    "    if padrao == 'M':\n",
    "        lista_codigos = lista_codigos.upper()  \n",
    "        lista_codigos = lista_codigos.strip() \n",
    "    return lista_codigos \n",
    "\n",
    "cod_produtos = [' ABC12 ', 'abc34', 'AbC37']\n",
    "\n",
    "for i, lista in enumerate (cod_produtos):\n",
    "     cod_produtos[i] = padronizar_codigos(lista, 'M')\n",
    "     \n",
    "print(cod_produtos)\n",
    "\n",
    "#print(padronizar_codigos(cod_produtos, padrao = 'm'))\n"
   ]
  },
  {
   "cell_type": "code",
   "execution_count": 53,
   "metadata": {},
   "outputs": [
    {
     "name": "stdout",
     "output_type": "stream",
     "text": [
      "amanda\n",
      "luciana\n",
      "tempo\n"
     ]
    }
   ],
   "source": []
  }
 ],
 "metadata": {
  "kernelspec": {
   "display_name": "Python 3",
   "language": "python",
   "name": "python3"
  },
  "language_info": {
   "codemirror_mode": {
    "name": "ipython",
    "version": 3
   },
   "file_extension": ".py",
   "mimetype": "text/x-python",
   "name": "python",
   "nbconvert_exporter": "python",
   "pygments_lexer": "ipython3",
   "version": "3.11.0"
  },
  "orig_nbformat": 4
 },
 "nbformat": 4,
 "nbformat_minor": 2
}
