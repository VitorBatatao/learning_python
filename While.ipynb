{
 "cells": [
  {
   "cell_type": "markdown",
   "metadata": {},
   "source": [
    "# Estrutura while:\n",
    "\n",
    "### Funcionamento:\n",
    "\n",
    "Usamos o while quando queremos repetir um código de forma indeterminada até uma condição se tornar verdadeira/falsa.\n",
    "\n",
    "A lógica é: enquanto a condição for verdadeira, o while executa o código. Assim que ela terminar de ser verdadeira, o código \"sai\" do while.\n",
    "\n",
    "- Exemplo: Quando criamos automações na internet\n",
    "- Exemplo2: Crie um programa que funcione como o registro de vendas de uma empresa.\n",
    "\n",
    "Nele, a pessoa deve inserir o nome do produto e o produto deve ser adicionado na lista de venda. Enquanto o usuário não encerrar o programa, significa que ele está registrando novos produtos, então o programa deve permitir e entrada de quantos produtos o usuário quiser."
   ]
  },
  {
   "cell_type": "code",
   "execution_count": 14,
   "metadata": {},
   "outputs": [
    {
     "name": "stdout",
     "output_type": "stream",
     "text": [
      "Sair\n",
      "[]\n"
     ]
    }
   ],
   "source": [
    "vendas = []\n",
    "nome = input(\"Digite o produto que iremos cadastrar\")\n",
    "while nome != '':\n",
    "    if nome == \"sair\":\n",
    "        print(\"Sair\")\n",
    "        break    \n",
    "    else:\n",
    "        vendas.append(nome)\n",
    "        nome = input(\"Digite o produto que iremos cadastrar\")\n",
    "print(vendas)"
   ]
  },
  {
   "cell_type": "markdown",
   "metadata": {},
   "source": [
    "# Cuidado com o while -> Loop Infinito\n",
    "\n",
    "Sempre que for usar o comando while, lembre-se de ter certeza que o programa vai terminar em algum momento\n",
    "\n",
    "### Exemplo\n",
    "\n",
    "Digamos que temos uma lista de vendedores e as quantidades vendidas e queremos identificar todos os vendedores que bateram a meta de 50 vendas."
   ]
  },
  {
   "cell_type": "code",
   "execution_count": 15,
   "metadata": {},
   "outputs": [
    {
     "name": "stdout",
     "output_type": "stream",
     "text": [
      "O vendedor Maria bateu a meta 50 vendendo 941 produtos.\n",
      "O vendedor José bateu a meta 50 vendendo 852 produtos.\n",
      "O vendedor Antônio bateu a meta 50 vendendo 783 produtos.\n",
      "O vendedor João bateu a meta 50 vendendo 714 produtos.\n",
      "O vendedor Francisco bateu a meta 50 vendendo 697 produtos.\n",
      "O vendedor Ana bateu a meta 50 vendendo 686 produtos.\n",
      "O vendedor Luiz bateu a meta 50 vendendo 685 produtos.\n",
      "O vendedor Paulo bateu a meta 50 vendendo 670 produtos.\n",
      "O vendedor Carlos bateu a meta 50 vendendo 631 produtos.\n",
      "O vendedor Manoel bateu a meta 50 vendendo 453 produtos.\n",
      "O vendedor Pedro bateu a meta 50 vendendo 386 produtos.\n",
      "O vendedor Francisca bateu a meta 50 vendendo 371 produtos.\n",
      "O vendedor Marcos bateu a meta 50 vendendo 294 produtos.\n",
      "O vendedor Raimundo bateu a meta 50 vendendo 269 produtos.\n",
      "O vendedor Sebastião bateu a meta 50 vendendo 259 produtos.\n",
      "O vendedor Antônia bateu a meta 50 vendendo 218 produtos.\n",
      "O vendedor Marcelo bateu a meta 50 vendendo 208 produtos.\n",
      "O vendedor Jorge bateu a meta 50 vendendo 163 produtos.\n",
      "O vendedor Márcia bateu a meta 50 vendendo 125 produtos.\n",
      "O vendedor Geraldo bateu a meta 50 vendendo 102 produtos.\n",
      "O vendedor Adriana bateu a meta 50 vendendo 87 produtos.\n"
     ]
    }
   ],
   "source": [
    "vendas = [941, 852, 783, 714, 697, 686, 685, 670, 631, 453, 386, 371, 294, 269, 259, 218, 208, 163, 125, 102, 87, 47, 7]\n",
    "vendedores = ['Maria', 'José', 'Antônio', 'João', 'Francisco', 'Ana', 'Luiz', 'Paulo', 'Carlos', 'Manoel', 'Pedro', 'Francisca', 'Marcos', 'Raimundo', 'Sebastião', 'Antônia', 'Marcelo', 'Jorge', 'Márcia', 'Geraldo', 'Adriana', 'Sandra', 'Luis']\n",
    "meta = 50\n",
    "i = 0\n",
    "while vendas[i] >= 50:\n",
    "    print(f\"O vendedor {vendedores[i]} bateu a meta {meta} vendendo {vendas[i]} produtos.\")\n",
    "    i += 1 "
   ]
  },
  {
   "cell_type": "markdown",
   "metadata": {},
   "source": [
    "# Exercícios\n",
    "\n",
    "## 1. Input até o usuário parar\n",
    "\n",
    "Vamos criar um sistema de vendas. Nosso programa deve registrar os produtos e as quantidades (2 inputs) e adicionar em uma lista.\n",
    "\n",
    "O programa deve continuar rodando até o input ser vazio, ou seja, o usuário apertar enter sem digitar nenhum produto ou quantidade.\n",
    "\n",
    "Ao final do programa, ele deve printar todos os produtos e quantidades vendidas.\n",
    "\n",
    "Obs: Caso queira, para o print ficar mais visual, pode usar o join para cada item ser printado em uma linha.\n",
    "Sugestão para sua lista de produtos vendidos:"
   ]
  },
  {
   "cell_type": "code",
   "execution_count": 22,
   "metadata": {},
   "outputs": [
    {
     "name": "stdout",
     "output_type": "stream",
     "text": [
      "[['d', '3']]\n"
     ]
    }
   ],
   "source": [
    "vendas = []\n",
    "produto = input (\"Digite o nome do produto: \")\n",
    "quant = input (\"Digite a quantidade de produtos: \")\n",
    "while produto != '':\n",
    "    vendas.append ([produto,quant])\n",
    "    produto = input (\"Digite o nome do produto: \")\n",
    "    quant = input (\"Digite a quantidade de produtos: \")\n",
    "print(vendas)"
   ]
  },
  {
   "cell_type": "code",
   "execution_count": 24,
   "metadata": {},
   "outputs": [
    {
     "name": "stdout",
     "output_type": "stream",
     "text": [
      "[]\n"
     ]
    }
   ],
   "source": [
    "vendas = []\n",
    "produto = input (\"Digite o nome do produto: \")\n",
    "quant = input (\"Digite a quantidade de produtos: \")\n",
    "while True:\n",
    "    produto = input (\"Digite o nome do produto: \")\n",
    "    if not produto:\n",
    "        break\n",
    "    quant = input (\"Digite a quantidade de produtos: \")\n",
    "    vendas.append ([produto,quant])     \n",
    "print(vendas)"
   ]
  }
 ],
 "metadata": {
  "kernelspec": {
   "display_name": "Python 3",
   "language": "python",
   "name": "python3"
  },
  "language_info": {
   "codemirror_mode": {
    "name": "ipython",
    "version": 3
   },
   "file_extension": ".py",
   "mimetype": "text/x-python",
   "name": "python",
   "nbconvert_exporter": "python",
   "pygments_lexer": "ipython3",
   "version": "3.11.0"
  },
  "orig_nbformat": 4
 },
 "nbformat": 4,
 "nbformat_minor": 2
}
